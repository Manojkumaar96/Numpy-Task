{
  "cells": [
    {
      "cell_type": "markdown",
      "metadata": {
        "id": "view-in-github",
        "colab_type": "text"
      },
      "source": [
        "<a href=\"https://colab.research.google.com/github/Manojkumaar96/Task-2/blob/main/Numpy_tasks.ipynb\" target=\"_parent\"><img src=\"https://colab.research.google.com/assets/colab-badge.svg\" alt=\"Open In Colab\"/></a>"
      ]
    },
    {
      "cell_type": "markdown",
      "metadata": {
        "id": "Q5v-K5_Y3RqL"
      },
      "source": [
        "# Numpy\n",
        "\n"
      ]
    },
    {
      "cell_type": "markdown",
      "metadata": {
        "id": "jEWvWpqW3RqN"
      },
      "source": [
        "#### 1. Import the numpy package under the name `np` (★☆☆) \n",
        "(**hint**: import … as …)"
      ]
    },
    {
      "cell_type": "code",
      "execution_count": null,
      "metadata": {
        "collapsed": true,
        "id": "fjm_htqW3RqO"
      },
      "outputs": [],
      "source": [
        "import numpy as np"
      ]
    },
    {
      "cell_type": "markdown",
      "metadata": {
        "id": "AhMilrfZ3RqO"
      },
      "source": [
        "#### 2. Print the numpy version and the configuration (★☆☆) \n",
        "(**hint**: np.\\_\\_version\\_\\_, np.show\\_config)"
      ]
    },
    {
      "cell_type": "code",
      "execution_count": null,
      "metadata": {
        "colab": {
          "base_uri": "https://localhost:8080/"
        },
        "id": "CBeuZY-_3RqP",
        "outputId": "0a9add81-4082-4f6a-8366-9f7a9523c678"
      },
      "outputs": [
        {
          "name": "stdout",
          "output_type": "stream",
          "text": [
            "1.21.6\n",
            "blas_mkl_info:\n",
            "  NOT AVAILABLE\n",
            "blis_info:\n",
            "  NOT AVAILABLE\n",
            "openblas_info:\n",
            "    libraries = ['openblas', 'openblas']\n",
            "    library_dirs = ['/usr/local/lib']\n",
            "    language = c\n",
            "    define_macros = [('HAVE_CBLAS', None)]\n",
            "    runtime_library_dirs = ['/usr/local/lib']\n",
            "blas_opt_info:\n",
            "    libraries = ['openblas', 'openblas']\n",
            "    library_dirs = ['/usr/local/lib']\n",
            "    language = c\n",
            "    define_macros = [('HAVE_CBLAS', None)]\n",
            "    runtime_library_dirs = ['/usr/local/lib']\n",
            "lapack_mkl_info:\n",
            "  NOT AVAILABLE\n",
            "openblas_lapack_info:\n",
            "    libraries = ['openblas', 'openblas']\n",
            "    library_dirs = ['/usr/local/lib']\n",
            "    language = c\n",
            "    define_macros = [('HAVE_CBLAS', None)]\n",
            "    runtime_library_dirs = ['/usr/local/lib']\n",
            "lapack_opt_info:\n",
            "    libraries = ['openblas', 'openblas']\n",
            "    library_dirs = ['/usr/local/lib']\n",
            "    language = c\n",
            "    define_macros = [('HAVE_CBLAS', None)]\n",
            "    runtime_library_dirs = ['/usr/local/lib']\n",
            "Supported SIMD extensions in this NumPy install:\n",
            "    baseline = SSE,SSE2,SSE3\n",
            "    found = SSSE3,SSE41,POPCNT,SSE42,AVX,F16C,FMA3,AVX2\n",
            "    not found = AVX512F,AVX512CD,AVX512_KNL,AVX512_KNM,AVX512_SKX,AVX512_CLX,AVX512_CNL,AVX512_ICL\n",
            "None\n"
          ]
        }
      ],
      "source": [
        "print(np.__version__)\n",
        "print(np.show_config())"
      ]
    },
    {
      "cell_type": "markdown",
      "metadata": {
        "id": "Alz3fAHp3RqP"
      },
      "source": [
        "#### 3. Create a null vector of size 10 (★☆☆) \n",
        "(**hint**: np.zeros)"
      ]
    },
    {
      "cell_type": "code",
      "execution_count": null,
      "metadata": {
        "colab": {
          "base_uri": "https://localhost:8080/"
        },
        "id": "ojZCBI6r3RqP",
        "outputId": "f0704497-9aff-4377-dbb0-359d46ad2a2b"
      },
      "outputs": [
        {
          "name": "stdout",
          "output_type": "stream",
          "text": [
            "[0. 0. 0. 0. 0. 0. 0. 0. 0. 0.]\n"
          ]
        }
      ],
      "source": [
        "N = np.zeros(10)\n",
        "print(N)"
      ]
    },
    {
      "cell_type": "markdown",
      "metadata": {
        "id": "ycRUzD123RqP"
      },
      "source": [
        "#### 4.  How to find the memory size of any array (★☆☆) \n",
        "(**hint**: size, itemsize)"
      ]
    },
    {
      "cell_type": "code",
      "execution_count": null,
      "metadata": {
        "colab": {
          "base_uri": "https://localhost:8080/"
        },
        "id": "KxaIxGHD3RqQ",
        "outputId": "b7142558-e7db-45ed-f293-302e0b30b3bc"
      },
      "outputs": [
        {
          "name": "stdout",
          "output_type": "stream",
          "text": [
            "800 bytes\n"
          ]
        }
      ],
      "source": [
        "N = np.zeros((10,10))\n",
        "print(\"%d bytes\" % (N.size * N.itemsize))"
      ]
    },
    {
      "cell_type": "markdown",
      "metadata": {
        "id": "jOrZZduE3RqQ"
      },
      "source": [
        "#### 5.  How to get the documentation of the numpy add function from the command line? (★☆☆) \n",
        "(**hint**: np.info)"
      ]
    },
    {
      "cell_type": "code",
      "execution_count": null,
      "metadata": {
        "colab": {
          "base_uri": "https://localhost:8080/"
        },
        "id": "OUD8LWfs3RqQ",
        "outputId": "f21af8ec-29a4-4b84-ade4-75836dff9d8c"
      },
      "outputs": [
        {
          "name": "stdout",
          "output_type": "stream",
          "text": [
            "add(x1, x2, /, out=None, *, where=True, casting='same_kind', order='K', dtype=None, subok=True[, signature, extobj])\n",
            "\n",
            "Add arguments element-wise.\n",
            "\n",
            "Parameters\n",
            "----------\n",
            "x1, x2 : array_like\n",
            "    The arrays to be added.\n",
            "    If ``x1.shape != x2.shape``, they must be broadcastable to a common\n",
            "    shape (which becomes the shape of the output).\n",
            "out : ndarray, None, or tuple of ndarray and None, optional\n",
            "    A location into which the result is stored. If provided, it must have\n",
            "    a shape that the inputs broadcast to. If not provided or None,\n",
            "    a freshly-allocated array is returned. A tuple (possible only as a\n",
            "    keyword argument) must have length equal to the number of outputs.\n",
            "where : array_like, optional\n",
            "    This condition is broadcast over the input. At locations where the\n",
            "    condition is True, the `out` array will be set to the ufunc result.\n",
            "    Elsewhere, the `out` array will retain its original value.\n",
            "    Note that if an uninitialized `out` array is created via the default\n",
            "    ``out=None``, locations within it where the condition is False will\n",
            "    remain uninitialized.\n",
            "**kwargs\n",
            "    For other keyword-only arguments, see the\n",
            "    :ref:`ufunc docs <ufuncs.kwargs>`.\n",
            "\n",
            "Returns\n",
            "-------\n",
            "add : ndarray or scalar\n",
            "    The sum of `x1` and `x2`, element-wise.\n",
            "    This is a scalar if both `x1` and `x2` are scalars.\n",
            "\n",
            "Notes\n",
            "-----\n",
            "Equivalent to `x1` + `x2` in terms of array broadcasting.\n",
            "\n",
            "Examples\n",
            "--------\n",
            ">>> np.add(1.0, 4.0)\n",
            "5.0\n",
            ">>> x1 = np.arange(9.0).reshape((3, 3))\n",
            ">>> x2 = np.arange(3.0)\n",
            ">>> np.add(x1, x2)\n",
            "array([[  0.,   2.,   4.],\n",
            "       [  3.,   5.,   7.],\n",
            "       [  6.,   8.,  10.]])\n",
            "\n",
            "The ``+`` operator can be used as a shorthand for ``np.add`` on ndarrays.\n",
            "\n",
            ">>> x1 = np.arange(9.0).reshape((3, 3))\n",
            ">>> x2 = np.arange(3.0)\n",
            ">>> x1 + x2\n",
            "array([[ 0.,  2.,  4.],\n",
            "       [ 3.,  5.,  7.],\n",
            "       [ 6.,  8., 10.]])\n",
            "None\n"
          ]
        }
      ],
      "source": [
        "import numpy as np\n",
        "print(np.info(np.add))"
      ]
    },
    {
      "cell_type": "markdown",
      "metadata": {
        "id": "WXV5NkXD3RqR"
      },
      "source": [
        "#### 6.  Create a null vector of size 10 but the fifth value which is 1 (★☆☆) \n",
        "(**hint**: array\\[4\\])"
      ]
    },
    {
      "cell_type": "code",
      "execution_count": null,
      "metadata": {
        "colab": {
          "base_uri": "https://localhost:8080/"
        },
        "id": "dU5gb8ow3RqR",
        "outputId": "fcf3e489-416d-4782-e425-9b8ab0843187"
      },
      "outputs": [
        {
          "name": "stdout",
          "output_type": "stream",
          "text": [
            "[0. 0. 0. 0. 1. 0. 0. 0. 0. 0.]\n"
          ]
        }
      ],
      "source": [
        "N = np.zeros(10)\n",
        "N[4] = 1\n",
        "print(N)"
      ]
    },
    {
      "cell_type": "markdown",
      "metadata": {
        "id": "X0o4IRho3RqR"
      },
      "source": [
        "#### 7.  Create a vector with values ranging from 10 to 49 (★☆☆) \n",
        "(**hint**: np.arange)"
      ]
    },
    {
      "cell_type": "code",
      "execution_count": null,
      "metadata": {
        "colab": {
          "base_uri": "https://localhost:8080/"
        },
        "id": "W32PsyP43RqR",
        "outputId": "e2ca455f-8a14-417b-e64c-bc06b32639f4"
      },
      "outputs": [
        {
          "name": "stdout",
          "output_type": "stream",
          "text": [
            "[10 11 12 13 14 15 16 17 18 19 20 21 22 23 24 25 26 27 28 29 30 31 32 33\n",
            " 34 35 36 37 38 39 40 41 42 43 44 45 46 47 48 49]\n"
          ]
        }
      ],
      "source": [
        "N = np.arange(10,50)\n",
        "print(N)"
      ]
    },
    {
      "cell_type": "markdown",
      "metadata": {
        "id": "i1EvdQI-3RqR"
      },
      "source": [
        "#### 8.  Reverse a vector (first element becomes last) (★☆☆) \n",
        "(**hint**: array\\[::-1\\])"
      ]
    },
    {
      "cell_type": "code",
      "execution_count": null,
      "metadata": {
        "colab": {
          "base_uri": "https://localhost:8080/"
        },
        "id": "Ry7EdooR3RqS",
        "outputId": "24313736-078e-42af-cb1f-bfe500826114"
      },
      "outputs": [
        {
          "name": "stdout",
          "output_type": "stream",
          "text": [
            "[49 48 47 46 45 44 43 42 41 40 39 38 37 36 35 34 33 32 31 30 29 28 27 26\n",
            " 25 24 23 22 21 20 19 18 17 16 15 14 13 12 11 10  9  8  7  6  5  4  3  2\n",
            "  1  0]\n"
          ]
        }
      ],
      "source": [
        "N = np.arange(50)\n",
        "N = N[::-1]\n",
        "print(N)"
      ]
    },
    {
      "cell_type": "markdown",
      "metadata": {
        "id": "yB1rrOhU3RqS"
      },
      "source": [
        "#### 9.  Create a 3x3 matrix with values ranging from 0 to 8 (★☆☆) \n",
        "(**hint**: reshape)"
      ]
    },
    {
      "cell_type": "code",
      "execution_count": null,
      "metadata": {
        "colab": {
          "base_uri": "https://localhost:8080/"
        },
        "id": "GvdmXSb23RqS",
        "outputId": "8255dcf2-a7be-48a0-a314-0752ec5df8bb"
      },
      "outputs": [
        {
          "name": "stdout",
          "output_type": "stream",
          "text": [
            "[[0 1 2]\n",
            " [3 4 5]\n",
            " [6 7 8]]\n"
          ]
        }
      ],
      "source": [
        "N = np.arange(9).reshape(3,3)\n",
        "print(N)"
      ]
    },
    {
      "cell_type": "markdown",
      "metadata": {
        "id": "DG06A0qu3RqS"
      },
      "source": [
        "#### 10. Find indices of non-zero elements from \\[1,2,0,0,4,0\\] (★☆☆) \n",
        "(**hint**: np.nonzero)"
      ]
    },
    {
      "cell_type": "code",
      "execution_count": null,
      "metadata": {
        "colab": {
          "base_uri": "https://localhost:8080/"
        },
        "id": "_odBNYcp3RqS",
        "outputId": "ca741763-4a25-44ea-c29e-f766aba15e7d"
      },
      "outputs": [
        {
          "name": "stdout",
          "output_type": "stream",
          "text": [
            "(array([0, 1, 4]),)\n"
          ]
        }
      ],
      "source": [
        "N = np.nonzero([1,2,0,0,4,0])\n",
        "print(N)"
      ]
    },
    {
      "cell_type": "markdown",
      "metadata": {
        "id": "os433yO03RqS"
      },
      "source": [
        "#### 11. Create a 3x3 identity matrix (★☆☆) \n",
        "(**hint**: np.eye)"
      ]
    },
    {
      "cell_type": "code",
      "execution_count": null,
      "metadata": {
        "colab": {
          "base_uri": "https://localhost:8080/"
        },
        "id": "8CFU7eMN3RqS",
        "outputId": "e73db926-bc00-46cd-e4f7-7461c006b1ab"
      },
      "outputs": [
        {
          "name": "stdout",
          "output_type": "stream",
          "text": [
            "[[1. 0. 0.]\n",
            " [0. 1. 0.]\n",
            " [0. 0. 1.]]\n"
          ]
        }
      ],
      "source": [
        "N = np.eye(3)\n",
        "print(N)"
      ]
    },
    {
      "cell_type": "markdown",
      "metadata": {
        "id": "-vJ_Adet3RqT"
      },
      "source": [
        "#### 12. Create a 3x3x3 array with random values (★☆☆) \n",
        "(**hint**: np.random.random)"
      ]
    },
    {
      "cell_type": "code",
      "execution_count": null,
      "metadata": {
        "colab": {
          "base_uri": "https://localhost:8080/"
        },
        "collapsed": true,
        "id": "skqDTAGg3RqT",
        "outputId": "7f72d913-7219-41a0-ee08-117ce335508c"
      },
      "outputs": [
        {
          "name": "stdout",
          "output_type": "stream",
          "text": [
            "[[[0.77791835 0.17787317 0.48532472]\n",
            "  [0.35759934 0.6422781  0.42988564]\n",
            "  [0.94439772 0.28088395 0.86168289]]\n",
            "\n",
            " [[0.35567559 0.91742265 0.02032527]\n",
            "  [0.12040389 0.60472264 0.93533946]\n",
            "  [0.37783974 0.91547496 0.64273418]]\n",
            "\n",
            " [[0.68808344 0.68192876 0.91038653]\n",
            "  [0.84646888 0.65005794 0.10231161]\n",
            "  [0.34650952 0.35231505 0.73293763]]]\n"
          ]
        }
      ],
      "source": [
        "N = np.random.random((3,3,3))\n",
        "print(N)"
      ]
    },
    {
      "cell_type": "markdown",
      "metadata": {
        "id": "DWl6ZpJT3RqT"
      },
      "source": [
        "#### 13. Create a 10x10 array with random values and find the minimum and maximum values (★☆☆) \n",
        "(**hint**: min, max)"
      ]
    },
    {
      "cell_type": "code",
      "execution_count": null,
      "metadata": {
        "colab": {
          "base_uri": "https://localhost:8080/"
        },
        "id": "GXXu_LvH3RqT",
        "outputId": "d477b9a0-283c-4e6c-9571-9a7529c4fe85"
      },
      "outputs": [
        {
          "name": "stdout",
          "output_type": "stream",
          "text": [
            "0.006275905293989581 0.9985766276014334\n"
          ]
        }
      ],
      "source": [
        "N = np.random.random((10,10))\n",
        "Nmin, Nmax = N.min(), N.max()\n",
        "print(Nmin, Nmax)"
      ]
    },
    {
      "cell_type": "markdown",
      "metadata": {
        "id": "kCOLwKwP3RqT"
      },
      "source": [
        "#### 14. Create a random vector of size 30 and find the mean value (★☆☆) \n",
        "(**hint**: mean)"
      ]
    },
    {
      "cell_type": "code",
      "execution_count": null,
      "metadata": {
        "colab": {
          "base_uri": "https://localhost:8080/"
        },
        "id": "W6TLZlEf3RqT",
        "outputId": "5f6817df-9605-46d7-e499-238921793519"
      },
      "outputs": [
        {
          "name": "stdout",
          "output_type": "stream",
          "text": [
            "0.49334176718681405\n"
          ]
        }
      ],
      "source": [
        "N = np.random.random(30)\n",
        "a = N.mean()\n",
        "print(a)"
      ]
    },
    {
      "cell_type": "markdown",
      "metadata": {
        "id": "xSkrddQ53RqT"
      },
      "source": [
        "#### 15. Create a 2d array with 1 on the border and 0 inside (★☆☆) \n",
        "(**hint**: array\\[1:-1, 1:-1\\])"
      ]
    },
    {
      "cell_type": "code",
      "execution_count": null,
      "metadata": {
        "colab": {
          "base_uri": "https://localhost:8080/"
        },
        "id": "C8BLpTLY3RqT",
        "outputId": "7952c160-c2e8-4378-b6de-48ce85dc721d"
      },
      "outputs": [
        {
          "name": "stdout",
          "output_type": "stream",
          "text": [
            "[[1. 1. 1. 1. 1. 1. 1. 1. 1. 1.]\n",
            " [1. 0. 0. 0. 0. 0. 0. 0. 0. 1.]\n",
            " [1. 0. 0. 0. 0. 0. 0. 0. 0. 1.]\n",
            " [1. 0. 0. 0. 0. 0. 0. 0. 0. 1.]\n",
            " [1. 0. 0. 0. 0. 0. 0. 0. 0. 1.]\n",
            " [1. 0. 0. 0. 0. 0. 0. 0. 0. 1.]\n",
            " [1. 0. 0. 0. 0. 0. 0. 0. 0. 1.]\n",
            " [1. 0. 0. 0. 0. 0. 0. 0. 0. 1.]\n",
            " [1. 0. 0. 0. 0. 0. 0. 0. 0. 1.]\n",
            " [1. 1. 1. 1. 1. 1. 1. 1. 1. 1.]]\n"
          ]
        }
      ],
      "source": [
        "N = np.ones((10,10))\n",
        "N[1:-1,1:-1] = 0\n",
        "print(N)"
      ]
    },
    {
      "cell_type": "markdown",
      "metadata": {
        "id": "s1CTapOX3RqT"
      },
      "source": [
        "#### 16. How to add a border (filled with 0's) around an existing array? (★☆☆) \n",
        "(**hint**: np.pad)"
      ]
    },
    {
      "cell_type": "code",
      "execution_count": null,
      "metadata": {
        "colab": {
          "base_uri": "https://localhost:8080/"
        },
        "id": "2IOUnxSp3RqT",
        "outputId": "7b474bad-0d23-45cb-869d-f9a5e5a92fe2"
      },
      "outputs": [
        {
          "name": "stdout",
          "output_type": "stream",
          "text": [
            "[[0. 0. 0. 0. 0. 0. 0.]\n",
            " [0. 1. 1. 1. 1. 1. 0.]\n",
            " [0. 1. 1. 1. 1. 1. 0.]\n",
            " [0. 1. 1. 1. 1. 1. 0.]\n",
            " [0. 1. 1. 1. 1. 1. 0.]\n",
            " [0. 1. 1. 1. 1. 1. 0.]\n",
            " [0. 0. 0. 0. 0. 0. 0.]]\n"
          ]
        }
      ],
      "source": [
        "N = np.ones((5,5))\n",
        "N = np.pad(N, pad_width=1, mode='constant', constant_values=0)\n",
        "print(N)"
      ]
    },
    {
      "cell_type": "markdown",
      "metadata": {
        "id": "y-act42z3RqT"
      },
      "source": [
        "#### 17. What is the result of the following expression? (★☆☆) \n",
        "(**hint**: NaN = not a number, inf = infinity)"
      ]
    },
    {
      "cell_type": "markdown",
      "metadata": {
        "id": "VeP3fk7w3RqT"
      },
      "source": [
        "```python\n",
        "0 * np.nan\n",
        "np.nan == np.nan\n",
        "np.inf > np.nan\n",
        "np.nan - np.nan\n",
        "0.3 == 3 * 0.1\n",
        "```"
      ]
    },
    {
      "cell_type": "code",
      "execution_count": null,
      "metadata": {
        "colab": {
          "base_uri": "https://localhost:8080/"
        },
        "id": "n9Su0pDG3RqU",
        "outputId": "e38d46a4-63a9-46ea-cc7a-901fe5611b2e"
      },
      "outputs": [
        {
          "name": "stdout",
          "output_type": "stream",
          "text": [
            "nan\n",
            "False\n",
            "False\n",
            "nan\n",
            "False\n"
          ]
        }
      ],
      "source": [
        "print(0 * np.nan)\n",
        "print(np.nan == np.nan)\n",
        "print(np.inf > np.nan)\n",
        "print(np.nan - np.nan)\n",
        "print(0.3 == 3 * 0.1)"
      ]
    },
    {
      "cell_type": "markdown",
      "metadata": {
        "id": "b_Tg7raD3RqU"
      },
      "source": [
        "#### 18. Create a 5x5 matrix with values 1,2,3,4 just below the diagonal (★☆☆) \n",
        "(**hint**: np.diag)"
      ]
    },
    {
      "cell_type": "code",
      "execution_count": null,
      "metadata": {
        "colab": {
          "base_uri": "https://localhost:8080/"
        },
        "id": "9-Aasqgs3RqU",
        "outputId": "f47a35ef-0164-4b35-fae7-4d338687d6cf"
      },
      "outputs": [
        {
          "name": "stdout",
          "output_type": "stream",
          "text": [
            "[[0 0 0 0 0]\n",
            " [1 0 0 0 0]\n",
            " [0 2 0 0 0]\n",
            " [0 0 3 0 0]\n",
            " [0 0 0 4 0]]\n"
          ]
        }
      ],
      "source": [
        "N = np.diag(1+np.arange(4),k=-1)\n",
        "print(N)"
      ]
    },
    {
      "cell_type": "markdown",
      "metadata": {
        "id": "G2ZkUcAw3RqU"
      },
      "source": [
        "#### 19. Create a 8x8 matrix and fill it with a checkerboard pattern (★☆☆) \n",
        "(**hint**: array\\[::2\\])"
      ]
    },
    {
      "cell_type": "code",
      "execution_count": null,
      "metadata": {
        "colab": {
          "base_uri": "https://localhost:8080/"
        },
        "id": "0SBMFV7s3RqU",
        "outputId": "5f36399e-e961-4d5c-f0c7-1c2f3b40fbc5"
      },
      "outputs": [
        {
          "name": "stdout",
          "output_type": "stream",
          "text": [
            "[[0 1 0 1 0 1 0 1]\n",
            " [1 0 1 0 1 0 1 0]\n",
            " [0 1 0 1 0 1 0 1]\n",
            " [1 0 1 0 1 0 1 0]\n",
            " [0 1 0 1 0 1 0 1]\n",
            " [1 0 1 0 1 0 1 0]\n",
            " [0 1 0 1 0 1 0 1]\n",
            " [1 0 1 0 1 0 1 0]]\n"
          ]
        }
      ],
      "source": [
        "N = np.zeros((8,8),dtype=int)\n",
        "N[1::2,::2] = 1\n",
        "N[::2,1::2] = 1\n",
        "print(N)"
      ]
    },
    {
      "cell_type": "markdown",
      "metadata": {
        "id": "r2VLAG2y3RqU"
      },
      "source": [
        "#### 20. Consider a (6,7,8) shape array, what is the index (x,y,z) of the 100th element? \n",
        "(**hint**: np.unravel_index)"
      ]
    },
    {
      "cell_type": "code",
      "execution_count": null,
      "metadata": {
        "colab": {
          "base_uri": "https://localhost:8080/"
        },
        "id": "yXOV4TCg3RqU",
        "outputId": "731155fb-6fb0-4761-895d-f040fe2058e4"
      },
      "outputs": [
        {
          "name": "stdout",
          "output_type": "stream",
          "text": [
            "(1, 5, 4)\n"
          ]
        }
      ],
      "source": [
        "print(np.unravel_index(100,(6,7,8)))"
      ]
    },
    {
      "cell_type": "markdown",
      "metadata": {
        "id": "ZL7uZxY23RqU"
      },
      "source": [
        "#### 21. Create a checkerboard 8x8 matrix using the tile function (★☆☆) \n",
        "(**hint**: np.tile)"
      ]
    },
    {
      "cell_type": "code",
      "execution_count": null,
      "metadata": {
        "colab": {
          "base_uri": "https://localhost:8080/"
        },
        "id": "4-l6F0K53RqU",
        "outputId": "6e6a4b40-3415-448a-fcdb-5cc77d24238f"
      },
      "outputs": [
        {
          "name": "stdout",
          "output_type": "stream",
          "text": [
            "[[0 1 0 1 0 1 0 1]\n",
            " [1 0 1 0 1 0 1 0]\n",
            " [0 1 0 1 0 1 0 1]\n",
            " [1 0 1 0 1 0 1 0]\n",
            " [0 1 0 1 0 1 0 1]\n",
            " [1 0 1 0 1 0 1 0]\n",
            " [0 1 0 1 0 1 0 1]\n",
            " [1 0 1 0 1 0 1 0]]\n"
          ]
        }
      ],
      "source": [
        "N = np.tile( np.array([[0,1],[1,0]]), (4,4))\n",
        "print(N)"
      ]
    },
    {
      "cell_type": "markdown",
      "metadata": {
        "id": "_PLvSRi03RqU"
      },
      "source": [
        "#### 22. Normalize a 5x5 random matrix (★☆☆) \n",
        "(**hint**: (x - min) / (max - min))"
      ]
    },
    {
      "cell_type": "code",
      "execution_count": null,
      "metadata": {
        "colab": {
          "base_uri": "https://localhost:8080/"
        },
        "id": "4k8EeNil3RqU",
        "outputId": "3d57cd52-9e7d-44a0-e5b7-a9e7bad01263"
      },
      "outputs": [
        {
          "name": "stdout",
          "output_type": "stream",
          "text": [
            "[[0.86032397 0.15258195 0.17758394 0.92907624 0.91496946]\n",
            " [0.46724214 0.71459214 0.26141397 0.54133029 0.92080985]\n",
            " [0.60763055 0.91623721 0.79334862 0.4268865  0.5463632 ]\n",
            " [0.         0.67568667 0.62293023 0.91599086 0.19968669]\n",
            " [0.7614534  0.28451531 0.4051839  1.         0.04626758]]\n"
          ]
        }
      ],
      "source": [
        "N = np.random.random((5,5))\n",
        "Nmax, Nmin = N.max(), N.min()\n",
        "N = (N - Nmin)/(Nmax - Nmin)\n",
        "print(N)"
      ]
    },
    {
      "cell_type": "markdown",
      "metadata": {
        "id": "t-WfG0Sl3RqU"
      },
      "source": [
        "#### 23. Create a custom dtype that describes a color as four unsigned bytes (RGBA) (★☆☆) \n",
        "(**hint**: np.dtype)"
      ]
    },
    {
      "cell_type": "code",
      "execution_count": null,
      "metadata": {
        "colab": {
          "base_uri": "https://localhost:8080/"
        },
        "collapsed": true,
        "id": "6J_uq85i3RqV",
        "outputId": "a5f37b17-4b6c-4c33-f4e7-ef83ccab145c"
      },
      "outputs": [
        {
          "name": "stderr",
          "output_type": "stream",
          "text": [
            "/usr/local/lib/python3.7/dist-packages/ipykernel_launcher.py:4: FutureWarning: Passing (type, 1) or '1type' as a synonym of type is deprecated; in a future version of numpy, it will be understood as (type, (1,)) / '(1,)type'.\n",
            "  after removing the cwd from sys.path.\n"
          ]
        }
      ],
      "source": [
        "color = np.dtype([(\"r\", np.ubyte, 1),\n",
        "                  (\"g\", np.ubyte, 1),\n",
        "                  (\"b\", np.ubyte, 1),\n",
        "                  (\"a\", np.ubyte, 1)])"
      ]
    },
    {
      "cell_type": "markdown",
      "metadata": {
        "id": "ojHom7f83RqV"
      },
      "source": [
        "#### 24. Multiply a 5x3 matrix by a 3x2 matrix (real matrix product) (★☆☆) \n",
        "(**hint**: np.dot | @)"
      ]
    },
    {
      "cell_type": "code",
      "execution_count": null,
      "metadata": {
        "colab": {
          "base_uri": "https://localhost:8080/"
        },
        "id": "2Mq3S8nv3RqV",
        "outputId": "209eb2c6-02bf-41fb-9e40-3907be2cb858"
      },
      "outputs": [
        {
          "name": "stdout",
          "output_type": "stream",
          "text": [
            "[[3. 3.]\n",
            " [3. 3.]\n",
            " [3. 3.]\n",
            " [3. 3.]\n",
            " [3. 3.]]\n"
          ]
        }
      ],
      "source": [
        "N = np.dot(np.ones((5,3)), np.ones((3,2)))\n",
        "print(N)"
      ]
    },
    {
      "cell_type": "markdown",
      "metadata": {
        "id": "zKdxwung3RqV"
      },
      "source": [
        "#### 25. Given a 1D array, negate all elements which are between 3 and 8, in place. (★☆☆) \n",
        "(**hint**: >, <=)"
      ]
    },
    {
      "cell_type": "code",
      "execution_count": null,
      "metadata": {
        "colab": {
          "base_uri": "https://localhost:8080/"
        },
        "id": "sMX5jX1W3RqV",
        "outputId": "8bbc0fea-d806-41c5-e538-7136980c9345"
      },
      "outputs": [
        {
          "name": "stdout",
          "output_type": "stream",
          "text": [
            "[ 0  1  2  3 -4 -5 -6 -7 -8  9 10]\n"
          ]
        }
      ],
      "source": [
        "N = np.arange(11)\n",
        "N[(3 < N) & (N <= 8)] *= -1\n",
        "print(N)"
      ]
    },
    {
      "cell_type": "markdown",
      "metadata": {
        "id": "Z8Q2-9563RqV"
      },
      "source": [
        "#### 26. What is the output of the following script? (★☆☆) \n",
        "(**hint**: np.sum)"
      ]
    },
    {
      "cell_type": "markdown",
      "metadata": {
        "id": "5P9AGnK53RqV"
      },
      "source": [
        "```python\n",
        "# Author: Jake VanderPlas\n",
        "\n",
        "print(sum(range(5),-1))\n",
        "from numpy import *\n",
        "print(sum(range(5),-1))\n",
        "```"
      ]
    },
    {
      "cell_type": "code",
      "execution_count": null,
      "metadata": {
        "colab": {
          "base_uri": "https://localhost:8080/"
        },
        "id": "D6U9Gtr25u6p",
        "outputId": "d6d81869-1bd5-4f82-bfca-dd17d7b41368"
      },
      "outputs": [
        {
          "name": "stdout",
          "output_type": "stream",
          "text": [
            "10\n",
            "10\n"
          ]
        }
      ],
      "source": [
        "print(sum(range(5),-1))\n",
        "from numpy import *\n",
        "print(sum(range(5),-1))"
      ]
    },
    {
      "cell_type": "markdown",
      "metadata": {
        "id": "vvCF9y5t3RqV"
      },
      "source": [
        "#### 27. Consider an integer vector Z, which of these expressions are legal? (★☆☆)"
      ]
    },
    {
      "cell_type": "markdown",
      "metadata": {
        "id": "_xiOrkWe3RqV"
      },
      "source": [
        "```python\n",
        "Z**Z\n",
        "2 << Z >> 2\n",
        "Z <- Z\n",
        "1j*Z\n",
        "Z/1/1\n",
        "Z<Z>Z\n",
        "```"
      ]
    },
    {
      "cell_type": "code",
      "execution_count": null,
      "metadata": {
        "colab": {
          "base_uri": "https://localhost:8080/",
          "height": 243
        },
        "id": "7w0shiH83RqV",
        "outputId": "9368c9b5-0b52-4295-e27f-a23657c151a5"
      },
      "outputs": [
        {
          "ename": "NameError",
          "evalue": "ignored",
          "output_type": "error",
          "traceback": [
            "\u001b[0;31m---------------------------------------------------------------------------\u001b[0m",
            "\u001b[0;31mNameError\u001b[0m                                 Traceback (most recent call last)",
            "\u001b[0;32m<ipython-input-44-4e3654d03fce>\u001b[0m in \u001b[0;36m<module>\u001b[0;34m()\u001b[0m\n\u001b[0;32m----> 1\u001b[0;31m \u001b[0mZ\u001b[0m\u001b[0;34m**\u001b[0m\u001b[0mZ\u001b[0m\u001b[0;34m\u001b[0m\u001b[0;34m\u001b[0m\u001b[0m\n\u001b[0m\u001b[1;32m      2\u001b[0m \u001b[0;36m2\u001b[0m \u001b[0;34m<<\u001b[0m \u001b[0mZ\u001b[0m \u001b[0;34m>>\u001b[0m \u001b[0;36m2\u001b[0m\u001b[0;34m\u001b[0m\u001b[0;34m\u001b[0m\u001b[0m\n\u001b[1;32m      3\u001b[0m \u001b[0mZ\u001b[0m \u001b[0;34m<\u001b[0m\u001b[0;34m-\u001b[0m \u001b[0mZ\u001b[0m\u001b[0;34m\u001b[0m\u001b[0;34m\u001b[0m\u001b[0m\n\u001b[1;32m      4\u001b[0m \u001b[0;36m1j\u001b[0m\u001b[0;34m*\u001b[0m\u001b[0mZ\u001b[0m\u001b[0;34m\u001b[0m\u001b[0;34m\u001b[0m\u001b[0m\n\u001b[1;32m      5\u001b[0m \u001b[0mZ\u001b[0m\u001b[0;34m/\u001b[0m\u001b[0;36m1\u001b[0m\u001b[0;34m/\u001b[0m\u001b[0;36m1\u001b[0m\u001b[0;34m\u001b[0m\u001b[0;34m\u001b[0m\u001b[0m\n",
            "\u001b[0;31mNameError\u001b[0m: name 'Z' is not defined"
          ]
        }
      ],
      "source": [
        "Z**Z\n",
        "2 << Z >> 2\n",
        "Z <- Z\n",
        "1j*Z\n",
        "Z/1/1\n",
        "Z<Z>Z"
      ]
    },
    {
      "cell_type": "markdown",
      "metadata": {
        "id": "bxaIXHO23RqV"
      },
      "source": [
        "#### 28. What are the result of the following expressions?"
      ]
    },
    {
      "cell_type": "markdown",
      "metadata": {
        "id": "bT5k_MbM3RqV"
      },
      "source": [
        "```python\n",
        "np.array(0) / np.array(0)\n",
        "np.array(0) // np.array(0)\n",
        "np.array([np.nan]).astype(int).astype(float)\n",
        "```"
      ]
    },
    {
      "cell_type": "code",
      "execution_count": null,
      "metadata": {
        "colab": {
          "base_uri": "https://localhost:8080/"
        },
        "id": "IaVBXwqS3RqV",
        "outputId": "c6822da6-3472-4834-e652-a713e10e2af7"
      },
      "outputs": [
        {
          "name": "stdout",
          "output_type": "stream",
          "text": [
            "nan\n",
            "0\n",
            "[-9.22337204e+18]\n"
          ]
        },
        {
          "name": "stderr",
          "output_type": "stream",
          "text": [
            "/usr/local/lib/python3.7/dist-packages/ipykernel_launcher.py:1: RuntimeWarning: invalid value encountered in true_divide\n",
            "  \"\"\"Entry point for launching an IPython kernel.\n",
            "/usr/local/lib/python3.7/dist-packages/ipykernel_launcher.py:2: RuntimeWarning: divide by zero encountered in floor_divide\n",
            "  \n"
          ]
        }
      ],
      "source": [
        "print(np.array(0) / np.array(0))\n",
        "print(np.array(0) // np.array(0))\n",
        "print(np.array([np.nan]).astype(int).astype(float))"
      ]
    },
    {
      "cell_type": "markdown",
      "metadata": {
        "id": "8eek1BCC3RqV"
      },
      "source": [
        "#### 29. How to round away from zero a float array ? (★☆☆) \n",
        "(**hint**: np.uniform, np.copysign, np.ceil, np.abs)"
      ]
    },
    {
      "cell_type": "code",
      "execution_count": null,
      "metadata": {
        "colab": {
          "base_uri": "https://localhost:8080/"
        },
        "id": "qYFy9juO3RqW",
        "outputId": "e5903ca5-c338-453c-fd76-9d20e8c9348f"
      },
      "outputs": [
        {
          "name": "stdout",
          "output_type": "stream",
          "text": [
            "[  3.   1.   8.   4.  -3. -10.   8.  -1.   8.  -6.]\n"
          ]
        }
      ],
      "source": [
        "N = np.random.uniform(-10,+10,10)\n",
        "print (np.copysign(np.ceil(np.abs(N)), N))"
      ]
    },
    {
      "cell_type": "markdown",
      "metadata": {
        "id": "cogBgrDR3RqW"
      },
      "source": [
        "#### 30. How to find common values between two arrays? (★☆☆) \n",
        "(**hint**: np.intersect1d)"
      ]
    },
    {
      "cell_type": "code",
      "execution_count": null,
      "metadata": {
        "colab": {
          "base_uri": "https://localhost:8080/"
        },
        "id": "cvWxrlm23RqW",
        "outputId": "06201d02-3812-4133-9990-0adbe83e1c94"
      },
      "outputs": [
        {
          "output_type": "stream",
          "name": "stdout",
          "text": [
            "[0 1 5 7]\n"
          ]
        }
      ],
      "source": [
        "N1 = np.random.randint(0,10,10)\n",
        "N2 = np.random.randint(0,10,10)\n",
        "print(np.intersect1d(N1,N2))"
      ]
    },
    {
      "cell_type": "markdown",
      "metadata": {
        "id": "rHy3a2Qh3RqW"
      },
      "source": [
        "#### 31. How to ignore all numpy warnings (not recommended)? (★☆☆) \n",
        "(**hint**: np.seterr, np.errstate)"
      ]
    },
    {
      "cell_type": "code",
      "execution_count": null,
      "metadata": {
        "id": "kmm_NiLV3RqW"
      },
      "outputs": [],
      "source": [
        "defaults = np.seterr(all=\"ignore\")\n",
        "Z = np.ones(1) / 0\n",
        "_ = np.seterr(**defaults)\n",
        "with np.errstate(divide='ignore'):\n",
        "    Z = np.ones(1) / 0"
      ]
    },
    {
      "cell_type": "markdown",
      "metadata": {
        "id": "eJd84Tgo3RqW"
      },
      "source": [
        "#### 32. Is the following expressions true? (★☆☆) \n",
        "(**hint**: imaginary number)"
      ]
    },
    {
      "cell_type": "markdown",
      "metadata": {
        "id": "rXFlbZbx3RqW"
      },
      "source": [
        "```python\n",
        "np.sqrt(-1) == np.emath.sqrt(-1)\n",
        "```"
      ]
    },
    {
      "cell_type": "code",
      "execution_count": null,
      "metadata": {
        "id": "Wx1_GKtb3RqW",
        "colab": {
          "base_uri": "https://localhost:8080/"
        },
        "outputId": "a569679d-ad4a-4ad3-8797-d16a2268c473"
      },
      "outputs": [
        {
          "output_type": "stream",
          "name": "stderr",
          "text": [
            "/usr/local/lib/python3.7/dist-packages/ipykernel_launcher.py:1: RuntimeWarning: invalid value encountered in sqrt\n",
            "  \"\"\"Entry point for launching an IPython kernel.\n"
          ]
        },
        {
          "output_type": "execute_result",
          "data": {
            "text/plain": [
              "False"
            ]
          },
          "metadata": {},
          "execution_count": 55
        }
      ],
      "source": [
        "np.sqrt(-1) == np.emath.sqrt(-1)"
      ]
    },
    {
      "cell_type": "markdown",
      "metadata": {
        "id": "WnN4O3vd3RqW"
      },
      "source": [
        "#### 33. How to get the dates of yesterday, today and tomorrow? (★☆☆) \n",
        "(**hint**: np.datetime64, np.timedelta64)"
      ]
    },
    {
      "cell_type": "code",
      "execution_count": null,
      "metadata": {
        "collapsed": true,
        "id": "cU8alA5h3RqW"
      },
      "outputs": [],
      "source": [
        "yesterday = np.datetime64('today', 'D') - np.timedelta64(1, 'D')\n",
        "today     = np.datetime64('today', 'D')\n",
        "tomorrow  = np.datetime64('today', 'D') + np.timedelta64(1, 'D')"
      ]
    },
    {
      "cell_type": "markdown",
      "metadata": {
        "id": "tNQvBQRO3RqW"
      },
      "source": [
        "#### 34. How to get all the dates corresponding to the month of July 2016? (★★☆) \n",
        "(**hint**: np.arange(dtype=datetime64\\['D'\\]))"
      ]
    },
    {
      "cell_type": "code",
      "execution_count": null,
      "metadata": {
        "id": "EpwrFz753RqW",
        "colab": {
          "base_uri": "https://localhost:8080/"
        },
        "outputId": "e7160be4-d14b-40ab-840c-8393fbaae42f"
      },
      "outputs": [
        {
          "output_type": "stream",
          "name": "stdout",
          "text": [
            "['2016-07-01' '2016-07-02' '2016-07-03' '2016-07-04' '2016-07-05'\n",
            " '2016-07-06' '2016-07-07' '2016-07-08' '2016-07-09' '2016-07-10'\n",
            " '2016-07-11' '2016-07-12' '2016-07-13' '2016-07-14' '2016-07-15'\n",
            " '2016-07-16' '2016-07-17' '2016-07-18' '2016-07-19' '2016-07-20'\n",
            " '2016-07-21' '2016-07-22' '2016-07-23' '2016-07-24' '2016-07-25'\n",
            " '2016-07-26' '2016-07-27' '2016-07-28' '2016-07-29' '2016-07-30'\n",
            " '2016-07-31']\n"
          ]
        }
      ],
      "source": [
        "N = np.arange('2016-07', '2016-08', dtype='datetime64[D]')\n",
        "print(N)"
      ]
    },
    {
      "cell_type": "markdown",
      "metadata": {
        "id": "BWBAGeG-3RqW"
      },
      "source": [
        "#### 35. How to compute ((A+B)\\*(-A/2)) in place (without copy)? (★★☆) \n",
        "(**hint**: np.add(out=), np.negative(out=), np.multiply(out=), np.divide(out=))"
      ]
    },
    {
      "cell_type": "code",
      "execution_count": null,
      "metadata": {
        "id": "C7IoReF-3RqW",
        "colab": {
          "base_uri": "https://localhost:8080/"
        },
        "outputId": "55ea41a1-0c60-47e7-a3a2-8c2e45826675"
      },
      "outputs": [
        {
          "output_type": "execute_result",
          "data": {
            "text/plain": [
              "array([-1.5, -1.5, -1.5])"
            ]
          },
          "metadata": {},
          "execution_count": 58
        }
      ],
      "source": [
        "A = np.ones(3)*1\n",
        "B = np.ones(3)*2\n",
        "C = np.ones(3)*3\n",
        "np.add(A,B,out=B)\n",
        "np.divide(A,2,out=A)\n",
        "np.negative(A,out=A)\n",
        "np.multiply(A,B,out=A)"
      ]
    },
    {
      "cell_type": "markdown",
      "metadata": {
        "id": "lW_hS7Nc3RqW"
      },
      "source": [
        "#### 36. Extract the integer part of a random array using 5 different methods (★★☆) \n",
        "(**hint**: %, np.floor, np.ceil, astype, np.trunc)"
      ]
    },
    {
      "cell_type": "code",
      "execution_count": null,
      "metadata": {
        "id": "TI8kBufZ3RqW",
        "colab": {
          "base_uri": "https://localhost:8080/"
        },
        "outputId": "d8d64e62-092c-427c-8b09-cff840ed01f9"
      },
      "outputs": [
        {
          "output_type": "stream",
          "name": "stdout",
          "text": [
            "[1. 7. 9. 9. 1. 9. 6. 8. 6. 3.]\n",
            "[1. 7. 9. 9. 1. 9. 6. 8. 6. 3.]\n",
            "[1. 7. 9. 9. 1. 9. 6. 8. 6. 3.]\n",
            "[1 7 9 9 1 9 6 8 6 3]\n",
            "[1. 7. 9. 9. 1. 9. 6. 8. 6. 3.]\n"
          ]
        }
      ],
      "source": [
        "N = np.random.uniform(0,10,10)\n",
        "\n",
        "print (N - N%1)\n",
        "print (np.floor(N))\n",
        "print (np.ceil(N)-1)\n",
        "print (N.astype(int))\n",
        "print (np.trunc(N))"
      ]
    },
    {
      "cell_type": "markdown",
      "metadata": {
        "id": "iKoPU-mN3RqW"
      },
      "source": [
        "#### 37. Create a 5x5 matrix with row values ranging from 0 to 4 (★★☆) \n",
        "(**hint**: np.arange)"
      ]
    },
    {
      "cell_type": "code",
      "execution_count": null,
      "metadata": {
        "id": "EjbxCzZH3RqX",
        "colab": {
          "base_uri": "https://localhost:8080/"
        },
        "outputId": "9b3c60cd-ad70-4166-9e9b-aa478c40b705"
      },
      "outputs": [
        {
          "output_type": "stream",
          "name": "stdout",
          "text": [
            "[[0. 1. 2. 3. 4.]\n",
            " [0. 1. 2. 3. 4.]\n",
            " [0. 1. 2. 3. 4.]\n",
            " [0. 1. 2. 3. 4.]\n",
            " [0. 1. 2. 3. 4.]]\n"
          ]
        }
      ],
      "source": [
        "N = np.zeros((5,5))\n",
        "N += np.arange(5)\n",
        "print(N)"
      ]
    },
    {
      "cell_type": "markdown",
      "metadata": {
        "id": "pjCJcjn53RqX"
      },
      "source": [
        "#### 38. Consider a generator function that generates 10 integers and use it to build an array (★☆☆) \n",
        "(**hint**: np.fromiter)"
      ]
    },
    {
      "cell_type": "code",
      "execution_count": null,
      "metadata": {
        "id": "q65hm9AL3RqX",
        "colab": {
          "base_uri": "https://localhost:8080/"
        },
        "outputId": "3503fa5c-bc55-44d4-f331-195cb7178649"
      },
      "outputs": [
        {
          "output_type": "stream",
          "name": "stdout",
          "text": [
            "[0. 1. 2. 3. 4. 5. 6. 7. 8. 9.]\n"
          ]
        }
      ],
      "source": [
        "def generate():\n",
        "    for i in range(10):\n",
        "        yield i\n",
        "N = np.fromiter(generate(),dtype=float,count=-1)\n",
        "print(N)"
      ]
    },
    {
      "cell_type": "markdown",
      "metadata": {
        "id": "l-wg9eRD3RqX"
      },
      "source": [
        "#### 39. Create a vector of size 10 with values ranging from 0 to 1, both excluded (★★☆) \n",
        "(**hint**: np.linspace)"
      ]
    },
    {
      "cell_type": "code",
      "execution_count": null,
      "metadata": {
        "id": "uNLYiByn3RqX",
        "colab": {
          "base_uri": "https://localhost:8080/"
        },
        "outputId": "27c73a08-c1c5-428a-e066-d1aea43dfcd9"
      },
      "outputs": [
        {
          "output_type": "stream",
          "name": "stdout",
          "text": [
            "[0.09090909 0.18181818 0.27272727 0.36363636 0.45454545 0.54545455\n",
            " 0.63636364 0.72727273 0.81818182 0.90909091]\n"
          ]
        }
      ],
      "source": [
        "N = np.linspace(0,1,11,endpoint=False)[1:]\n",
        "print(N)"
      ]
    },
    {
      "cell_type": "markdown",
      "metadata": {
        "id": "YoNAU2J43RqX"
      },
      "source": [
        "#### 40. Create a random vector of size 10 and sort it (★★☆) \n",
        "(**hint**: sort)"
      ]
    },
    {
      "cell_type": "code",
      "execution_count": null,
      "metadata": {
        "id": "ywhI1Kk63RqX",
        "colab": {
          "base_uri": "https://localhost:8080/"
        },
        "outputId": "3dd56503-a86c-4162-e64b-3a1665add51f"
      },
      "outputs": [
        {
          "output_type": "stream",
          "name": "stdout",
          "text": [
            "[0.30773743 0.4562242  0.45942154 0.50612752 0.59495394 0.62411256\n",
            " 0.72436721 0.8717333  0.91303529 0.99549883]\n"
          ]
        }
      ],
      "source": [
        "N = np.random.random(10)\n",
        "N.sort()\n",
        "print(N)"
      ]
    },
    {
      "cell_type": "markdown",
      "metadata": {
        "id": "gNX5mrZZ3RqX"
      },
      "source": [
        "#### 41. How to sum a small array faster than np.sum? (★★☆) \n",
        "(**hint**: np.add.reduce)"
      ]
    },
    {
      "cell_type": "code",
      "execution_count": null,
      "metadata": {
        "id": "wbHDsvHY3RqX",
        "colab": {
          "base_uri": "https://localhost:8080/"
        },
        "outputId": "ff2b3489-d487-48e2-8be4-3093f4464417"
      },
      "outputs": [
        {
          "output_type": "execute_result",
          "data": {
            "text/plain": [
              "45"
            ]
          },
          "metadata": {},
          "execution_count": 68
        }
      ],
      "source": [
        "N = np.arange(10)\n",
        "np.add.reduce(N)"
      ]
    },
    {
      "cell_type": "markdown",
      "metadata": {
        "id": "b-kWr_f33RqX"
      },
      "source": [
        "#### 42. Consider two random array A and B, check if they are equal (★★☆) \n",
        "(**hint**: np.allclose, np.array\\_equal)"
      ]
    },
    {
      "cell_type": "code",
      "execution_count": null,
      "metadata": {
        "id": "SERHbpoA3RqX",
        "colab": {
          "base_uri": "https://localhost:8080/"
        },
        "outputId": "c8b05d80-b8a3-455f-dff5-cb2f11e3180e"
      },
      "outputs": [
        {
          "output_type": "stream",
          "name": "stdout",
          "text": [
            "False\n",
            "False\n"
          ]
        }
      ],
      "source": [
        "A = np.random.randint(0,2,5)\n",
        "B = np.random.randint(0,2,5)\n",
        "equal = np.allclose(A,B)\n",
        "print(equal)\n",
        "equal = np.array_equal(A,B)\n",
        "print(equal)"
      ]
    },
    {
      "cell_type": "markdown",
      "metadata": {
        "id": "_Xt_mviu3RqX"
      },
      "source": [
        "#### 43. Make an array immutable (read-only) (★★☆) \n",
        "(**hint**: flags.writeable)"
      ]
    },
    {
      "cell_type": "code",
      "execution_count": null,
      "metadata": {
        "id": "h9RSMcht3RqX",
        "colab": {
          "base_uri": "https://localhost:8080/",
          "height": 207
        },
        "outputId": "d22866d6-b4f7-4e03-d87c-ac39125e7610"
      },
      "outputs": [
        {
          "output_type": "error",
          "ename": "ValueError",
          "evalue": "ignored",
          "traceback": [
            "\u001b[0;31m---------------------------------------------------------------------------\u001b[0m",
            "\u001b[0;31mValueError\u001b[0m                                Traceback (most recent call last)",
            "\u001b[0;32m<ipython-input-70-7ca6dfb119c2>\u001b[0m in \u001b[0;36m<module>\u001b[0;34m()\u001b[0m\n\u001b[1;32m      1\u001b[0m \u001b[0mN\u001b[0m \u001b[0;34m=\u001b[0m \u001b[0mnp\u001b[0m\u001b[0;34m.\u001b[0m\u001b[0mzeros\u001b[0m\u001b[0;34m(\u001b[0m\u001b[0;36m10\u001b[0m\u001b[0;34m)\u001b[0m\u001b[0;34m\u001b[0m\u001b[0;34m\u001b[0m\u001b[0m\n\u001b[1;32m      2\u001b[0m \u001b[0mN\u001b[0m\u001b[0;34m.\u001b[0m\u001b[0mflags\u001b[0m\u001b[0;34m.\u001b[0m\u001b[0mwriteable\u001b[0m \u001b[0;34m=\u001b[0m \u001b[0;32mFalse\u001b[0m\u001b[0;34m\u001b[0m\u001b[0;34m\u001b[0m\u001b[0m\n\u001b[0;32m----> 3\u001b[0;31m \u001b[0mN\u001b[0m\u001b[0;34m[\u001b[0m\u001b[0;36m0\u001b[0m\u001b[0;34m]\u001b[0m \u001b[0;34m=\u001b[0m \u001b[0;36m1\u001b[0m\u001b[0;34m\u001b[0m\u001b[0;34m\u001b[0m\u001b[0m\n\u001b[0m",
            "\u001b[0;31mValueError\u001b[0m: assignment destination is read-only"
          ]
        }
      ],
      "source": [
        "N = np.zeros(10)\n",
        "N.flags.writeable = False\n",
        "N[0] = 1"
      ]
    },
    {
      "cell_type": "markdown",
      "metadata": {
        "id": "GBDSQVQA3RqX"
      },
      "source": [
        "#### 44. Consider a random 10x2 matrix representing cartesian coordinates, convert them to polar coordinates (★★☆) \n",
        "(**hint**: np.sqrt, np.arctan2)"
      ]
    },
    {
      "cell_type": "code",
      "execution_count": null,
      "metadata": {
        "id": "C1Fzutd-3RqX",
        "colab": {
          "base_uri": "https://localhost:8080/"
        },
        "outputId": "168279fd-5282-4707-ec1c-40793c381a2a"
      },
      "outputs": [
        {
          "output_type": "stream",
          "name": "stdout",
          "text": [
            "[0.27451473 0.82845746 0.30838608 1.08499674 1.26672273 0.86319211\n",
            " 1.31703425 0.39860224 0.96424813 1.34897591]\n",
            "[1.00290904 0.50171348 1.42842216 0.92467149 0.70509239 0.29338945\n",
            " 0.7487594  1.25160794 0.09778227 0.82253131]\n"
          ]
        }
      ],
      "source": [
        "N = np.random.random((10,2))\n",
        "X,Y = N[:,0], N[:,1]\n",
        "R = np.sqrt(X**2+Y**2)\n",
        "T = np.arctan2(Y,X)\n",
        "print(R)\n",
        "print(T)"
      ]
    },
    {
      "cell_type": "markdown",
      "metadata": {
        "id": "_nYvVMVg3RqX"
      },
      "source": [
        "#### 45. Create random vector of size 10 and replace the maximum value by 0 (★★☆) \n",
        "(**hint**: argmax)"
      ]
    },
    {
      "cell_type": "code",
      "execution_count": null,
      "metadata": {
        "id": "3LkpMXT23RqY",
        "colab": {
          "base_uri": "https://localhost:8080/"
        },
        "outputId": "ab95790f-9738-4cfc-f616-9ca142d14ce0"
      },
      "outputs": [
        {
          "output_type": "stream",
          "name": "stdout",
          "text": [
            "[0.89146534 0.40784334 0.68666067 0.19243058 0.         0.8406994\n",
            " 0.61939324 0.48044742 0.47411575 0.31157216]\n"
          ]
        }
      ],
      "source": [
        "N = np.random.random(10)\n",
        "N[N.argmax()] = 0\n",
        "print(N)"
      ]
    },
    {
      "cell_type": "markdown",
      "metadata": {
        "id": "2K6KyzAg3RqY"
      },
      "source": [
        "#### 46. Create a structured array with `x` and `y` coordinates covering the \\[0,1\\]x\\[0,1\\] area (★★☆) \n",
        "(**hint**: np.meshgrid)"
      ]
    },
    {
      "cell_type": "code",
      "execution_count": null,
      "metadata": {
        "id": "ZtPNMYAF3RqY",
        "colab": {
          "base_uri": "https://localhost:8080/"
        },
        "outputId": "1acd29c0-92dc-4cfa-de3b-8e3d2488e9c3"
      },
      "outputs": [
        {
          "output_type": "stream",
          "name": "stdout",
          "text": [
            "[[(0.  , 0.  ) (0.25, 0.  ) (0.5 , 0.  ) (0.75, 0.  ) (1.  , 0.  )]\n",
            " [(0.  , 0.25) (0.25, 0.25) (0.5 , 0.25) (0.75, 0.25) (1.  , 0.25)]\n",
            " [(0.  , 0.5 ) (0.25, 0.5 ) (0.5 , 0.5 ) (0.75, 0.5 ) (1.  , 0.5 )]\n",
            " [(0.  , 0.75) (0.25, 0.75) (0.5 , 0.75) (0.75, 0.75) (1.  , 0.75)]\n",
            " [(0.  , 1.  ) (0.25, 1.  ) (0.5 , 1.  ) (0.75, 1.  ) (1.  , 1.  )]]\n"
          ]
        }
      ],
      "source": [
        "N = np.zeros((5,5), [('x',float),('y',float)])\n",
        "N['x'], N['y'] = np.meshgrid(np.linspace(0,1,5),\n",
        "                             np.linspace(0,1,5))\n",
        "print(N)"
      ]
    },
    {
      "cell_type": "markdown",
      "metadata": {
        "id": "XpsMiwzn3RqY"
      },
      "source": [
        "####  47. Given two arrays, X and Y, construct the Cauchy matrix C (Cij =1/(xi - yj)) \n",
        "(**hint**: np.subtract.outer)"
      ]
    },
    {
      "cell_type": "code",
      "execution_count": null,
      "metadata": {
        "id": "vsIv56UB3RqY",
        "colab": {
          "base_uri": "https://localhost:8080/"
        },
        "outputId": "4beb56b3-c4b4-4873-b4d2-442871139823"
      },
      "outputs": [
        {
          "output_type": "stream",
          "name": "stdout",
          "text": [
            "3638.163637117973\n"
          ]
        }
      ],
      "source": [
        "A = np.arange(8)\n",
        "B = A + 0.5\n",
        "C = 1.0 / np.subtract.outer(A, B)\n",
        "print(np.linalg.det(C))"
      ]
    },
    {
      "cell_type": "markdown",
      "metadata": {
        "id": "VIztM1WS3RqY"
      },
      "source": [
        "#### 48. Print the minimum and maximum representable value for each numpy scalar type (★★☆) \n",
        "(**hint**: np.iinfo, np.finfo, eps)"
      ]
    },
    {
      "cell_type": "code",
      "execution_count": null,
      "metadata": {
        "id": "KzIyBljB3RqY",
        "colab": {
          "base_uri": "https://localhost:8080/"
        },
        "outputId": "16962256-801d-4f34-9d89-f752ecfbd229"
      },
      "outputs": [
        {
          "output_type": "stream",
          "name": "stdout",
          "text": [
            "-128\n",
            "127\n",
            "-2147483648\n",
            "2147483647\n",
            "-9223372036854775808\n",
            "9223372036854775807\n",
            "-3.4028235e+38\n",
            "3.4028235e+38\n",
            "1.1920929e-07\n",
            "-1.7976931348623157e+308\n",
            "1.7976931348623157e+308\n",
            "2.220446049250313e-16\n"
          ]
        }
      ],
      "source": [
        "for dtype in [np.int8, np.int32, np.int64]:\n",
        "   print(np.iinfo(dtype).min)\n",
        "   print(np.iinfo(dtype).max)\n",
        "for dtype in [np.float32, np.float64]:\n",
        "   print(np.finfo(dtype).min)\n",
        "   print(np.finfo(dtype).max)\n",
        "   print(np.finfo(dtype).eps)"
      ]
    },
    {
      "cell_type": "markdown",
      "metadata": {
        "id": "kFQ1cD4r3RqY"
      },
      "source": [
        "#### 49. How to print all the values of an array? (★★☆) \n",
        "(**hint**: np.set\\_printoptions)"
      ]
    },
    {
      "cell_type": "code",
      "execution_count": null,
      "metadata": {
        "id": "wwApO7N13RqY",
        "colab": {
          "base_uri": "https://localhost:8080/",
          "height": 376
        },
        "outputId": "d833723f-2004-4c2d-f5fd-708dd3b46434"
      },
      "outputs": [
        {
          "output_type": "error",
          "ename": "ValueError",
          "evalue": "ignored",
          "traceback": [
            "\u001b[0;31m---------------------------------------------------------------------------\u001b[0m",
            "\u001b[0;31mValueError\u001b[0m                                Traceback (most recent call last)",
            "\u001b[0;32m<ipython-input-80-45726d8268de>\u001b[0m in \u001b[0;36m<module>\u001b[0;34m()\u001b[0m\n\u001b[0;32m----> 1\u001b[0;31m \u001b[0mnp\u001b[0m\u001b[0;34m.\u001b[0m\u001b[0mset_printoptions\u001b[0m\u001b[0;34m(\u001b[0m\u001b[0mthreshold\u001b[0m\u001b[0;34m=\u001b[0m\u001b[0mnp\u001b[0m\u001b[0;34m.\u001b[0m\u001b[0mnan\u001b[0m\u001b[0;34m)\u001b[0m\u001b[0;34m\u001b[0m\u001b[0;34m\u001b[0m\u001b[0m\n\u001b[0m\u001b[1;32m      2\u001b[0m \u001b[0mval\u001b[0m \u001b[0;34m=\u001b[0m \u001b[0mnp\u001b[0m\u001b[0;34m.\u001b[0m\u001b[0mzeros\u001b[0m\u001b[0;34m(\u001b[0m\u001b[0;34m(\u001b[0m\u001b[0;36m16\u001b[0m\u001b[0;34m,\u001b[0m\u001b[0;36m16\u001b[0m\u001b[0;34m)\u001b[0m\u001b[0;34m)\u001b[0m\u001b[0;34m\u001b[0m\u001b[0;34m\u001b[0m\u001b[0m\n\u001b[1;32m      3\u001b[0m \u001b[0mprint\u001b[0m\u001b[0;34m(\u001b[0m\u001b[0mval\u001b[0m\u001b[0;34m)\u001b[0m\u001b[0;34m\u001b[0m\u001b[0;34m\u001b[0m\u001b[0m\n",
            "\u001b[0;32m/usr/local/lib/python3.7/dist-packages/numpy/core/arrayprint.py\u001b[0m in \u001b[0;36mset_printoptions\u001b[0;34m(precision, threshold, edgeitems, linewidth, suppress, nanstr, infstr, formatter, sign, floatmode, legacy)\u001b[0m\n\u001b[1;32m    252\u001b[0m     opt = _make_options_dict(precision, threshold, edgeitems, linewidth,\n\u001b[1;32m    253\u001b[0m                              \u001b[0msuppress\u001b[0m\u001b[0;34m,\u001b[0m \u001b[0mnanstr\u001b[0m\u001b[0;34m,\u001b[0m \u001b[0minfstr\u001b[0m\u001b[0;34m,\u001b[0m \u001b[0msign\u001b[0m\u001b[0;34m,\u001b[0m \u001b[0mformatter\u001b[0m\u001b[0;34m,\u001b[0m\u001b[0;34m\u001b[0m\u001b[0;34m\u001b[0m\u001b[0m\n\u001b[0;32m--> 254\u001b[0;31m                              floatmode, legacy)\n\u001b[0m\u001b[1;32m    255\u001b[0m     \u001b[0;31m# formatter is always reset\u001b[0m\u001b[0;34m\u001b[0m\u001b[0;34m\u001b[0m\u001b[0;34m\u001b[0m\u001b[0m\n\u001b[1;32m    256\u001b[0m     \u001b[0mopt\u001b[0m\u001b[0;34m[\u001b[0m\u001b[0;34m'formatter'\u001b[0m\u001b[0;34m]\u001b[0m \u001b[0;34m=\u001b[0m \u001b[0mformatter\u001b[0m\u001b[0;34m\u001b[0m\u001b[0;34m\u001b[0m\u001b[0m\n",
            "\u001b[0;32m/usr/local/lib/python3.7/dist-packages/numpy/core/arrayprint.py\u001b[0m in \u001b[0;36m_make_options_dict\u001b[0;34m(precision, threshold, edgeitems, linewidth, suppress, nanstr, infstr, sign, formatter, floatmode, legacy)\u001b[0m\n\u001b[1;32m     86\u001b[0m             \u001b[0;32mraise\u001b[0m \u001b[0mTypeError\u001b[0m\u001b[0;34m(\u001b[0m\u001b[0;34m\"threshold must be numeric\"\u001b[0m\u001b[0;34m)\u001b[0m\u001b[0;34m\u001b[0m\u001b[0;34m\u001b[0m\u001b[0m\n\u001b[1;32m     87\u001b[0m         \u001b[0;32mif\u001b[0m \u001b[0mnp\u001b[0m\u001b[0;34m.\u001b[0m\u001b[0misnan\u001b[0m\u001b[0;34m(\u001b[0m\u001b[0mthreshold\u001b[0m\u001b[0;34m)\u001b[0m\u001b[0;34m:\u001b[0m\u001b[0;34m\u001b[0m\u001b[0;34m\u001b[0m\u001b[0m\n\u001b[0;32m---> 88\u001b[0;31m             raise ValueError(\"threshold must be non-NAN, try \"\n\u001b[0m\u001b[1;32m     89\u001b[0m                              \"sys.maxsize for untruncated representation\")\n\u001b[1;32m     90\u001b[0m \u001b[0;34m\u001b[0m\u001b[0m\n",
            "\u001b[0;31mValueError\u001b[0m: threshold must be non-NAN, try sys.maxsize for untruncated representation"
          ]
        }
      ],
      "source": [
        "np.set_printoptions(threshold=np.nan)\n",
        "N = np.zeros((16,16))\n",
        "print(N)"
      ]
    },
    {
      "cell_type": "markdown",
      "metadata": {
        "id": "RdeO53153RqY"
      },
      "source": [
        "#### 50. How to find the closest value (to a given scalar) in a vector? (★★☆) \n",
        "(**hint**: argmin)"
      ]
    },
    {
      "cell_type": "code",
      "execution_count": null,
      "metadata": {
        "id": "uHfiIV1p3RqY",
        "colab": {
          "base_uri": "https://localhost:8080/"
        },
        "outputId": "877823a2-7f46-4ea8-a4b0-651932ed91c7"
      },
      "outputs": [
        {
          "output_type": "stream",
          "name": "stdout",
          "text": [
            "97\n"
          ]
        }
      ],
      "source": [
        "Z = np.arange(100)\n",
        "v = np.random.uniform(0,100)\n",
        "index = (np.abs(Z-v)).argmin()\n",
        "print(Z[index])"
      ]
    },
    {
      "cell_type": "markdown",
      "metadata": {
        "id": "cC0CM52O3RqY"
      },
      "source": [
        "#### 51. Create a structured array representing a position (x,y) and a color (r,g,b) (★★☆) \n",
        "(**hint**: dtype)"
      ]
    },
    {
      "cell_type": "code",
      "execution_count": null,
      "metadata": {
        "id": "l2BG6b6a3RqY",
        "colab": {
          "base_uri": "https://localhost:8080/"
        },
        "outputId": "7732937a-8836-4a2d-b6da-d4ba7cbcfe80"
      },
      "outputs": [
        {
          "output_type": "stream",
          "name": "stdout",
          "text": [
            "[((0., 0.), (0., 0., 0.)) ((0., 0.), (0., 0., 0.))\n",
            " ((0., 0.), (0., 0., 0.)) ((0., 0.), (0., 0., 0.))\n",
            " ((0., 0.), (0., 0., 0.)) ((0., 0.), (0., 0., 0.))\n",
            " ((0., 0.), (0., 0., 0.)) ((0., 0.), (0., 0., 0.))\n",
            " ((0., 0.), (0., 0., 0.)) ((0., 0.), (0., 0., 0.))]\n"
          ]
        },
        {
          "output_type": "stream",
          "name": "stderr",
          "text": [
            "/usr/local/lib/python3.7/dist-packages/ipykernel_launcher.py:5: FutureWarning: Passing (type, 1) or '1type' as a synonym of type is deprecated; in a future version of numpy, it will be understood as (type, (1,)) / '(1,)type'.\n",
            "  \"\"\"\n"
          ]
        }
      ],
      "source": [
        "N = np.zeros(10, [ ('position', [ ('x', float, 1),\n",
        "                                  ('y', float, 1)]),\n",
        "                   ('color',    [ ('r', float, 1),\n",
        "                                  ('g', float, 1),\n",
        "                                  ('b', float, 1)])])\n",
        "print(N)"
      ]
    },
    {
      "cell_type": "markdown",
      "metadata": {
        "id": "5ZT2DqMO3RqY"
      },
      "source": [
        "#### 52. Consider a random vector with shape (100,2) representing coordinates, find point by point distances (★★☆) \n",
        "(**hint**: np.atleast\\_2d, T, np.sqrt)"
      ]
    },
    {
      "cell_type": "code",
      "execution_count": null,
      "metadata": {
        "id": "a7fzGq853RqY",
        "colab": {
          "base_uri": "https://localhost:8080/"
        },
        "outputId": "2c029f56-5c38-4bc7-bdc2-bd20c0017d56"
      },
      "outputs": [
        {
          "output_type": "stream",
          "name": "stdout",
          "text": [
            "[[0.         0.32570957 0.86858905 0.572388   0.18729403 0.89556423\n",
            "  0.90604884 0.29746947 0.60910417 0.26144808]\n",
            " [0.32570957 0.         0.70658575 0.33147268 0.23711614 0.66791828\n",
            "  0.58835533 0.07734525 0.35430954 0.30343158]\n",
            " [0.86858905 0.70658575 0.         0.38904971 0.6820124  0.19676019\n",
            "  0.89516836 0.65607329 0.95100779 0.99423145]\n",
            " [0.572388   0.33147268 0.38904971 0.         0.39594596 0.33796809\n",
            "  0.59433671 0.29913846 0.56770458 0.63253774]\n",
            " [0.18729403 0.23711614 0.6820124  0.39594596 0.         0.71071309\n",
            "  0.8165181  0.17229761 0.5841918  0.36330511]\n",
            " [0.89556423 0.66791828 0.19676019 0.33796809 0.71071309 0.\n",
            "  0.73076207 0.6364827  0.84639033 0.97020467]\n",
            " [0.90604884 0.58835533 0.89516836 0.59433671 0.8165181  0.73076207\n",
            "  0.         0.64428206 0.37240144 0.76823813]\n",
            " [0.29746947 0.07734525 0.65607329 0.29913846 0.17229761 0.6364827\n",
            "  0.64428206 0.         0.43082938 0.33898265]\n",
            " [0.60910417 0.35430954 0.95100779 0.56770458 0.5841918  0.84639033\n",
            "  0.37240144 0.43082938 0.         0.41669095]\n",
            " [0.26144808 0.30343158 0.99423145 0.63253774 0.36330511 0.97020467\n",
            "  0.76823813 0.33898265 0.41669095 0.        ]]\n",
            "[[0.         0.60782812 0.37372447 0.69730437 0.58535963 0.35459635\n",
            "  0.17314535 0.44614732 0.58962949 0.41083413]\n",
            " [0.60782812 0.         0.34403488 0.16182367 0.14496595 0.81575396\n",
            "  0.46904169 0.24096561 0.66308648 0.60421405]\n",
            " [0.37372447 0.34403488 0.         0.49193374 0.41236017 0.69257307\n",
            "  0.20061432 0.10619726 0.7402074  0.26448349]\n",
            " [0.69730437 0.16182367 0.49193374 0.         0.11393535 0.84232944\n",
            "  0.58376628 0.39444531 0.60519231 0.75586294]\n",
            " [0.58535963 0.14496595 0.41236017 0.11393535 0.         0.73261206\n",
            "  0.47964827 0.32615172 0.52831632 0.67602184]\n",
            " [0.35459635 0.81575396 0.69257307 0.84232944 0.73261206 0.\n",
            "  0.50599979 0.73529358 0.42791337 0.76517351]\n",
            " [0.17314535 0.46904169 0.20061432 0.58376628 0.47964827 0.50599979\n",
            "  0.         0.2788795  0.63928925 0.29488041]\n",
            " [0.44614732 0.24096561 0.10619726 0.39444531 0.32615172 0.73529358\n",
            "  0.2788795  0.         0.72044251 0.3632959 ]\n",
            " [0.58962949 0.66308648 0.7402074  0.60519231 0.52831632 0.42791337\n",
            "  0.63928925 0.72044251 0.         0.93297243]\n",
            " [0.41083413 0.60421405 0.26448349 0.75586294 0.67602184 0.76517351\n",
            "  0.29488041 0.3632959  0.93297243 0.        ]]\n"
          ]
        }
      ],
      "source": [
        "import scipy\n",
        "import scipy.spatial\n",
        "Z = np.random.random((10,2))\n",
        "X,Y = np.atleast_2d(Z[:,0], Z[:,1])\n",
        "D = np.sqrt( (X-X.T)**2 + (Y-Y.T)**2)\n",
        "print(D)\n",
        "Z = np.random.random((10,2))\n",
        "D = scipy.spatial.distance.cdist(Z,Z)\n",
        "print(D)"
      ]
    },
    {
      "cell_type": "markdown",
      "metadata": {
        "id": "4hvJslni3RqY"
      },
      "source": [
        "#### 53. How to convert a float (32 bits) array into an integer (32 bits) in place? \n",
        "(**hint**: astype(copy=False))"
      ]
    },
    {
      "cell_type": "code",
      "execution_count": null,
      "metadata": {
        "id": "uODYAdkI3RqY",
        "colab": {
          "base_uri": "https://localhost:8080/"
        },
        "outputId": "aebf49b9-ff72-4875-fddc-4b5419847c90"
      },
      "outputs": [
        {
          "output_type": "stream",
          "name": "stdout",
          "text": [
            "[0 1 2 3 4 5 6 7 8 9]\n"
          ]
        }
      ],
      "source": [
        "N = np.arange(10, dtype=np.float32)\n",
        "N = N.astype(np.int32, copy=False)\n",
        "print(N)"
      ]
    },
    {
      "cell_type": "markdown",
      "metadata": {
        "id": "6NX0u9if3RqZ"
      },
      "source": [
        "#### 54. How to read the following file? (★★☆) \n",
        "(**hint**: np.genfromtxt)"
      ]
    },
    {
      "cell_type": "markdown",
      "metadata": {
        "id": "jtIM7dLK3RqZ"
      },
      "source": [
        "```\n",
        "1, 2, 3, 4, 5\n",
        "6,  ,  , 7, 8\n",
        " ,  , 9,10,11\n",
        "```"
      ]
    },
    {
      "cell_type": "code",
      "execution_count": null,
      "metadata": {
        "id": "Xrd7ZYeb3RqZ",
        "colab": {
          "base_uri": "https://localhost:8080/"
        },
        "outputId": "c8a3b34a-1c09-4f12-dc79-998b93877bd2"
      },
      "outputs": [
        {
          "output_type": "stream",
          "name": "stdout",
          "text": [
            "[[ 1  2  3  4  5]\n",
            " [ 6 -1 -1  7  8]\n",
            " [-1 -1  9 10 11]]\n"
          ]
        },
        {
          "output_type": "stream",
          "name": "stderr",
          "text": [
            "/usr/local/lib/python3.7/dist-packages/ipykernel_launcher.py:6: DeprecationWarning: `np.int` is a deprecated alias for the builtin `int`. To silence this warning, use `int` by itself. Doing this will not modify any behavior and is safe. When replacing `np.int`, you may wish to use e.g. `np.int64` or `np.int32` to specify the precision. If you wish to review your current use, check the release note link for additional information.\n",
            "Deprecated in NumPy 1.20; for more details and guidance: https://numpy.org/devdocs/release/1.20.0-notes.html#deprecations\n",
            "  \n"
          ]
        }
      ],
      "source": [
        "from io import StringIO\n",
        " \n",
        "s = StringIO(\"\"\"1, 2, 3, 4, 5\\n\n",
        "                6,  ,  , 7, 8\\n\n",
        "                 ,  , 9,10,11\\n\"\"\")\n",
        "Z = np.genfromtxt(s, delimiter=\",\", dtype=np.int)\n",
        "print(Z)"
      ]
    },
    {
      "cell_type": "markdown",
      "metadata": {
        "id": "W7D21PWi3RqZ"
      },
      "source": [
        "#### 55. What is the equivalent of enumerate for numpy arrays? (★★☆) \n",
        "(**hint**: np.ndenumerate, np.ndindex)"
      ]
    },
    {
      "cell_type": "code",
      "execution_count": null,
      "metadata": {
        "id": "K960wtdw3RqZ",
        "colab": {
          "base_uri": "https://localhost:8080/"
        },
        "outputId": "c0369539-d146-4314-c6f9-6e67c66d5fa7"
      },
      "outputs": [
        {
          "output_type": "stream",
          "name": "stdout",
          "text": [
            "(0, 0) 0\n",
            "(0, 1) 1\n",
            "(0, 2) 2\n",
            "(1, 0) 3\n",
            "(1, 1) 4\n",
            "(1, 2) 5\n",
            "(2, 0) 6\n",
            "(2, 1) 7\n",
            "(2, 2) 8\n",
            "(0, 0) 0\n",
            "(0, 1) 1\n",
            "(0, 2) 2\n",
            "(1, 0) 3\n",
            "(1, 1) 4\n",
            "(1, 2) 5\n",
            "(2, 0) 6\n",
            "(2, 1) 7\n",
            "(2, 2) 8\n"
          ]
        }
      ],
      "source": [
        "N = np.arange(9).reshape(3,3)\n",
        "for index, value in np.ndenumerate(N):\n",
        "    print(index, value)\n",
        "for index in np.ndindex(N.shape):\n",
        "    print(index, N[index])"
      ]
    },
    {
      "cell_type": "markdown",
      "metadata": {
        "id": "psCGLEHD3RqZ"
      },
      "source": [
        "#### 56. Generate a generic 2D Gaussian-like array (★★☆) \n",
        "(**hint**: np.meshgrid, np.exp)"
      ]
    },
    {
      "cell_type": "code",
      "execution_count": null,
      "metadata": {
        "id": "XsZMK2wZ3RqZ",
        "colab": {
          "base_uri": "https://localhost:8080/"
        },
        "outputId": "360b4fe4-3894-47a1-dbb1-d4cfaa1a3542"
      },
      "outputs": [
        {
          "output_type": "stream",
          "name": "stdout",
          "text": [
            "[[0.36787944 0.44822088 0.51979489 0.57375342 0.60279818 0.60279818\n",
            "  0.57375342 0.51979489 0.44822088 0.36787944]\n",
            " [0.44822088 0.54610814 0.63331324 0.69905581 0.73444367 0.73444367\n",
            "  0.69905581 0.63331324 0.54610814 0.44822088]\n",
            " [0.51979489 0.63331324 0.73444367 0.81068432 0.85172308 0.85172308\n",
            "  0.81068432 0.73444367 0.63331324 0.51979489]\n",
            " [0.57375342 0.69905581 0.81068432 0.89483932 0.9401382  0.9401382\n",
            "  0.89483932 0.81068432 0.69905581 0.57375342]\n",
            " [0.60279818 0.73444367 0.85172308 0.9401382  0.98773022 0.98773022\n",
            "  0.9401382  0.85172308 0.73444367 0.60279818]\n",
            " [0.60279818 0.73444367 0.85172308 0.9401382  0.98773022 0.98773022\n",
            "  0.9401382  0.85172308 0.73444367 0.60279818]\n",
            " [0.57375342 0.69905581 0.81068432 0.89483932 0.9401382  0.9401382\n",
            "  0.89483932 0.81068432 0.69905581 0.57375342]\n",
            " [0.51979489 0.63331324 0.73444367 0.81068432 0.85172308 0.85172308\n",
            "  0.81068432 0.73444367 0.63331324 0.51979489]\n",
            " [0.44822088 0.54610814 0.63331324 0.69905581 0.73444367 0.73444367\n",
            "  0.69905581 0.63331324 0.54610814 0.44822088]\n",
            " [0.36787944 0.44822088 0.51979489 0.57375342 0.60279818 0.60279818\n",
            "  0.57375342 0.51979489 0.44822088 0.36787944]]\n"
          ]
        }
      ],
      "source": [
        "X, Y = np.meshgrid(np.linspace(-1,1,10), np.linspace(-1,1,10))\n",
        "D = np.sqrt(X*X+Y*Y)\n",
        "sigma, mu = 1.0, 0.0\n",
        "G = np.exp(-( (D-mu)**2 / ( 2.0 * sigma**2 ) ) )\n",
        "print(G)"
      ]
    },
    {
      "cell_type": "markdown",
      "metadata": {
        "id": "4c8xO2A53RqZ"
      },
      "source": [
        "#### 57. How to randomly place p elements in a 2D array? (★★☆) \n",
        "(**hint**: np.put, np.random.choice)"
      ]
    },
    {
      "cell_type": "code",
      "execution_count": null,
      "metadata": {
        "id": "2zuV7TIy3RqZ",
        "colab": {
          "base_uri": "https://localhost:8080/"
        },
        "outputId": "74dff041-3d54-4589-9b44-ea9e8ce1066f"
      },
      "outputs": [
        {
          "output_type": "stream",
          "name": "stdout",
          "text": [
            "[[0. 0. 0. 0. 0. 0. 0. 0. 0. 0.]\n",
            " [0. 0. 0. 0. 0. 0. 0. 0. 0. 0.]\n",
            " [0. 0. 0. 0. 0. 0. 0. 0. 0. 0.]\n",
            " [0. 0. 0. 0. 0. 0. 0. 0. 0. 0.]\n",
            " [0. 0. 1. 0. 0. 0. 0. 0. 0. 0.]\n",
            " [0. 0. 0. 0. 0. 0. 0. 1. 0. 0.]\n",
            " [0. 0. 0. 0. 0. 0. 0. 0. 0. 0.]\n",
            " [0. 0. 0. 0. 0. 0. 1. 0. 0. 0.]\n",
            " [0. 0. 0. 0. 0. 0. 0. 0. 0. 0.]\n",
            " [0. 0. 0. 0. 0. 0. 0. 0. 0. 0.]]\n"
          ]
        }
      ],
      "source": [
        "a = 10\n",
        "b = 3\n",
        "N = np.zeros((a,a))\n",
        "np.put(N, np.random.choice(range(a*a), b, replace=False),1)\n",
        "print(N)"
      ]
    },
    {
      "cell_type": "markdown",
      "metadata": {
        "id": "I9TJb15l3RqZ"
      },
      "source": [
        "#### 58. Subtract the mean of each row of a matrix (★★☆) \n",
        "(**hint**: mean(axis=,keepdims=))"
      ]
    },
    {
      "cell_type": "code",
      "execution_count": null,
      "metadata": {
        "id": "4VXFj_CB3RqZ",
        "colab": {
          "base_uri": "https://localhost:8080/"
        },
        "outputId": "81919fb3-5fec-433a-de7b-9c161eb091ca"
      },
      "outputs": [
        {
          "output_type": "stream",
          "name": "stdout",
          "text": [
            "[[-0.13554759  0.44350751 -0.11856677 -0.01138279  0.25111258  0.14124117\n",
            "  -0.40946704  0.00890253  0.1963506  -0.3661502 ]\n",
            " [-0.49617699 -0.6273275   0.02073372  0.08609159  0.09928854 -0.08469325\n",
            "   0.34741412  0.30624964  0.1363198   0.21210031]\n",
            " [-0.07361085 -0.20018902  0.09206741  0.33096425  0.33243792  0.29876134\n",
            "   0.07944338 -0.24204257 -0.09296032 -0.52487155]\n",
            " [ 0.50586823  0.45956546  0.44414387 -0.3294298  -0.1650632  -0.09845276\n",
            "  -0.27142713 -0.12800229 -0.33770886 -0.07949351]\n",
            " [ 0.17693481  0.2266083   0.20763059 -0.2072335  -0.55802675 -0.20899153\n",
            "   0.19523459  0.23199623 -0.15225934  0.0881066 ]]\n"
          ]
        }
      ],
      "source": [
        "X = np.random.rand(5, 10)\n",
        "Y = X - X.mean(axis=1, keepdims=True)\n",
        "Y = X - X.mean(axis=1).reshape(-1, 1)\n",
        "print(Y)"
      ]
    },
    {
      "cell_type": "markdown",
      "metadata": {
        "id": "VxfCeHvp3RqZ"
      },
      "source": [
        "#### 59. How to sort an array by the nth column? (★★☆) \n",
        "(**hint**: argsort)"
      ]
    },
    {
      "cell_type": "code",
      "execution_count": null,
      "metadata": {
        "id": "V6HETKzb3RqZ",
        "colab": {
          "base_uri": "https://localhost:8080/"
        },
        "outputId": "7f656ae1-d7a0-4eef-f650-0ac1608d0eae"
      },
      "outputs": [
        {
          "output_type": "stream",
          "name": "stdout",
          "text": [
            "[[9 4 3]\n",
            " [2 8 5]\n",
            " [4 8 2]]\n",
            "[[9 4 3]\n",
            " [2 8 5]\n",
            " [4 8 2]]\n"
          ]
        }
      ],
      "source": [
        "N = np.random.randint(0,10,(3,3))\n",
        "print(N)\n",
        "print(N[N[:,1].argsort()])"
      ]
    },
    {
      "cell_type": "markdown",
      "metadata": {
        "id": "Bwyw_kSh3RqZ"
      },
      "source": [
        "#### 60. How to tell if a given 2D array has null columns? (★★☆) \n",
        "(**hint**: any, ~)"
      ]
    },
    {
      "cell_type": "code",
      "execution_count": null,
      "metadata": {
        "id": "Wm-ioMxF3RqZ",
        "colab": {
          "base_uri": "https://localhost:8080/"
        },
        "outputId": "9cf98fe5-d4fd-4c3b-cede-9ed6cfcc1d86"
      },
      "outputs": [
        {
          "output_type": "stream",
          "name": "stdout",
          "text": [
            "False\n"
          ]
        }
      ],
      "source": [
        "N = np.random.randint(0,3,(3,10))\n",
        "print((~N.any(axis=0)).any())"
      ]
    },
    {
      "cell_type": "markdown",
      "metadata": {
        "id": "FEauPJJA3RqZ"
      },
      "source": [
        "#### 61. Find the nearest value from a given value in an array (★★☆) \n",
        "(**hint**: np.abs, argmin, flat)"
      ]
    },
    {
      "cell_type": "code",
      "execution_count": null,
      "metadata": {
        "id": "dWvqao2s3RqZ",
        "colab": {
          "base_uri": "https://localhost:8080/"
        },
        "outputId": "4ee38c4a-6520-4c3c-e312-804d13a0c970"
      },
      "outputs": [
        {
          "output_type": "stream",
          "name": "stdout",
          "text": [
            "0.41773881926743817\n"
          ]
        }
      ],
      "source": [
        "Z = np.random.uniform(0,1,10)\n",
        "z = 0.5\n",
        "m = Z.flat[np.abs(Z - z).argmin()]\n",
        "print(m)"
      ]
    },
    {
      "cell_type": "markdown",
      "metadata": {
        "id": "YvnTQddo3RqZ"
      },
      "source": [
        "#### 62. Considering two arrays with shape (1,3) and (3,1), how to compute their sum using an iterator? (★★☆) \n",
        "(**hint**: np.nditer)"
      ]
    },
    {
      "cell_type": "code",
      "execution_count": null,
      "metadata": {
        "id": "ah-USFRl3RqZ",
        "colab": {
          "base_uri": "https://localhost:8080/"
        },
        "outputId": "0b3f6816-ffb5-40e1-b41a-7250c6252ec9"
      },
      "outputs": [
        {
          "output_type": "stream",
          "name": "stdout",
          "text": [
            "[[0 1 2]\n",
            " [1 2 3]\n",
            " [2 3 4]]\n"
          ]
        }
      ],
      "source": [
        "A = np.arange(3).reshape(3,1)\n",
        "B = np.arange(3).reshape(1,3)\n",
        "it = np.nditer([A,B,None])\n",
        "for x,y,z in it: z[...] = x + y\n",
        "print(it.operands[2])"
      ]
    },
    {
      "cell_type": "markdown",
      "metadata": {
        "id": "gts1W9tg3RqZ"
      },
      "source": [
        "#### 63. Create an array class that has a name attribute (★★☆) \n",
        "(**hint**: class method)"
      ]
    },
    {
      "cell_type": "code",
      "execution_count": null,
      "metadata": {
        "id": "qhlvqYHw3Rqa",
        "colab": {
          "base_uri": "https://localhost:8080/"
        },
        "outputId": "e97cd8c9-963d-434c-80de-a0b96c34b9ef"
      },
      "outputs": [
        {
          "output_type": "stream",
          "name": "stdout",
          "text": [
            "range_10\n"
          ]
        }
      ],
      "source": [
        "class NamedArray(np.ndarray):\n",
        "    def __new__(cls, array, name=\"no name\"):\n",
        "        obj = np.asarray(array).view(cls)\n",
        "        obj.name = name\n",
        "        return obj\n",
        "    def __array_finalize__(self, obj):\n",
        "        if obj is None: return\n",
        "        self.info = getattr(obj, 'name', \"no name\")\n",
        "\n",
        "N = NamedArray(np.arange(10), \"range_10\")\n",
        "print (N.name)"
      ]
    },
    {
      "cell_type": "markdown",
      "metadata": {
        "id": "FIMUhB873Rqa"
      },
      "source": [
        "#### 64. Consider a given vector, how to add 1 to each element indexed by a second vector (be careful with repeated indices)? (★★★) \n",
        "(**hint**: np.bincount | np.add.at)"
      ]
    },
    {
      "cell_type": "code",
      "execution_count": null,
      "metadata": {
        "id": "TzHRPLtl3Rqa",
        "colab": {
          "base_uri": "https://localhost:8080/"
        },
        "outputId": "613565bb-045b-4d54-a458-39f4da6dcfbc"
      },
      "outputs": [
        {
          "output_type": "stream",
          "name": "stdout",
          "text": [
            "[2. 2. 1. 5. 3. 4. 5. 4. 2. 2.]\n",
            "[3. 3. 1. 9. 5. 7. 9. 7. 3. 3.]\n"
          ]
        }
      ],
      "source": [
        "N = np.ones(10)\n",
        "I = np.random.randint(0,len(N),20)\n",
        "N += np.bincount(I, minlength=len(N))\n",
        "print(N)\n",
        "np.add.at(N, I, 1)\n",
        "print(N)"
      ]
    },
    {
      "cell_type": "markdown",
      "metadata": {
        "id": "v6cBj8CF3Rqa"
      },
      "source": [
        "#### 65. How to accumulate elements of a vector (X) to an array (F) based on an index list (I)? (★★★) \n",
        "(**hint**: np.bincount)"
      ]
    },
    {
      "cell_type": "code",
      "execution_count": null,
      "metadata": {
        "id": "2Lf9jd3W3Rqa",
        "colab": {
          "base_uri": "https://localhost:8080/"
        },
        "outputId": "429f994d-33d5-4d02-924a-db7c1ca13887"
      },
      "outputs": [
        {
          "output_type": "stream",
          "name": "stdout",
          "text": [
            "[0. 7. 0. 6. 5. 0. 0. 0. 0. 3.]\n"
          ]
        }
      ],
      "source": [
        "A = [1,2,3,4,5,6]\n",
        "B = [1,3,9,3,4,1]\n",
        "Z = np.bincount(B,A)\n",
        "print(Z)"
      ]
    },
    {
      "cell_type": "markdown",
      "metadata": {
        "id": "of5q22Qa3Rqa"
      },
      "source": [
        "#### 66. Considering a (w,h,3) image of (dtype=ubyte), compute the number of unique colors (★★★) \n",
        "(**hint**: np.unique)"
      ]
    },
    {
      "cell_type": "code",
      "execution_count": null,
      "metadata": {
        "id": "6r50ifm93Rqa",
        "colab": {
          "base_uri": "https://localhost:8080/"
        },
        "outputId": "4777b435-8e84-449c-a398-d05cbcef19ad"
      },
      "outputs": [
        {
          "output_type": "stream",
          "name": "stdout",
          "text": [
            "8\n"
          ]
        }
      ],
      "source": [
        "w,h = 16,16\n",
        "A = np.random.randint(0,2,(h,w,3)).astype(np.ubyte)\n",
        "B = A[...,0]*(256*256) + A[...,1]*256 +A[...,2]\n",
        "Z = len(np.unique(B))\n",
        "print(Z)"
      ]
    },
    {
      "cell_type": "markdown",
      "metadata": {
        "id": "eAUuy8LI3Rqa"
      },
      "source": [
        "#### 67. Considering a four dimensions array, how to get sum over the last two axis at once? (★★★) \n",
        "(**hint**: sum(axis=(-2,-1)))"
      ]
    },
    {
      "cell_type": "code",
      "execution_count": null,
      "metadata": {
        "id": "ntdbxVpw3Rqa",
        "colab": {
          "base_uri": "https://localhost:8080/"
        },
        "outputId": "6e69ad19-7394-4544-f7aa-bacb983d55fb"
      },
      "outputs": [
        {
          "output_type": "stream",
          "name": "stdout",
          "text": [
            "[[51 67 63 53]\n",
            " [54 45 50 57]\n",
            " [58 62 58 44]]\n",
            "[[51 67 63 53]\n",
            " [54 45 50 57]\n",
            " [58 62 58 44]]\n"
          ]
        }
      ],
      "source": [
        "A = np.random.randint(0,10,(3,4,3,4))\n",
        "sum = A.sum(axis=(-2,-1))\n",
        "print(sum)\n",
        "sum = A.reshape(A.shape[:-2] + (-1,)).sum(axis=-1)\n",
        "print(sum)"
      ]
    },
    {
      "cell_type": "markdown",
      "metadata": {
        "id": "oMKhLkxc3Rqa"
      },
      "source": [
        "#### 68. Considering a one-dimensional vector D, how to compute means of subsets of D using a vector S of same size describing subset  indices? (★★★) \n",
        "(**hint**: np.bincount)"
      ]
    },
    {
      "cell_type": "code",
      "execution_count": null,
      "metadata": {
        "id": "9y95_JG23Rqa",
        "colab": {
          "base_uri": "https://localhost:8080/"
        },
        "outputId": "a107c541-bfa6-4fc5-b28f-b099d6040e66"
      },
      "outputs": [
        {
          "output_type": "stream",
          "name": "stdout",
          "text": [
            "[0.37242031 0.47047617 0.53182633 0.50972179 0.37968028 0.34933396\n",
            " 0.50675418 0.18507103 0.46255492 0.52838226]\n",
            "0    0.372420\n",
            "1    0.470476\n",
            "2    0.531826\n",
            "3    0.509722\n",
            "4    0.379680\n",
            "5    0.349334\n",
            "6    0.506754\n",
            "7    0.185071\n",
            "8    0.462555\n",
            "9    0.528382\n",
            "dtype: float64\n"
          ]
        }
      ],
      "source": [
        "import pandas as pd\n",
        "D = np.random.uniform(0,1,100)\n",
        "S = np.random.randint(0,10,100)\n",
        "D_sums = np.bincount(S, weights=D)\n",
        "D_counts = np.bincount(S)\n",
        "D_means = D_sums / D_counts\n",
        "print(D_means)\n",
        "print(pd.Series(D).groupby(S).mean())"
      ]
    },
    {
      "cell_type": "markdown",
      "metadata": {
        "id": "IK1zDW2B3Rqa"
      },
      "source": [
        "#### 69. How to get the diagonal of a dot product? (★★★) \n",
        "(**hint**: np.diag)"
      ]
    },
    {
      "cell_type": "code",
      "execution_count": null,
      "metadata": {
        "id": "VYsW4rLU3Rqa",
        "colab": {
          "base_uri": "https://localhost:8080/"
        },
        "outputId": "8a17df57-4ff1-4447-ff3d-d46ec205ff6d"
      },
      "outputs": [
        {
          "output_type": "execute_result",
          "data": {
            "text/plain": [
              "array([1.48971367, 1.27039147, 0.93704408, 1.37353414, 0.4953583 ])"
            ]
          },
          "metadata": {},
          "execution_count": 102
        }
      ],
      "source": [
        "A = np.random.uniform(0,1,(5,5))\n",
        "B = np.random.uniform(0,1,(5,5))  \n",
        "np.diag(np.dot(A, B))\n",
        "np.sum(A * B.T, axis=1)\n",
        "np.einsum(\"ij,ji->i\", A, B)"
      ]
    },
    {
      "cell_type": "markdown",
      "metadata": {
        "id": "n74zl3_O3Rqa"
      },
      "source": [
        "#### 70. Consider the vector \\[1, 2, 3, 4, 5\\], how to build a new vector with 3 consecutive zeros interleaved between each value? (★★★) \n",
        "(**hint**: array\\[::4\\])"
      ]
    },
    {
      "cell_type": "code",
      "execution_count": null,
      "metadata": {
        "id": "JHLcu8D33Rqa",
        "colab": {
          "base_uri": "https://localhost:8080/"
        },
        "outputId": "30d180df-61d5-42da-edc7-92078f3914c6"
      },
      "outputs": [
        {
          "output_type": "stream",
          "name": "stdout",
          "text": [
            "[1. 0. 0. 0. 2. 0. 0. 0. 3. 0. 0. 0. 4. 0. 0. 0. 5.]\n"
          ]
        }
      ],
      "source": [
        "A = np.array([1,2,3,4,5])\n",
        "nz = 3\n",
        "B = np.zeros(len(A) + (len(A)-1)*(nz))\n",
        "B[::nz+1] = A\n",
        "print(B)"
      ]
    },
    {
      "cell_type": "markdown",
      "metadata": {
        "id": "u6X5lgow3Rqa"
      },
      "source": [
        "#### 71. Consider an array of dimension (5,5,3), how to mulitply it by an array with dimensions (5,5)? (★★★) \n",
        "(**hint**: array\\[:, :, None\\])"
      ]
    },
    {
      "cell_type": "code",
      "execution_count": null,
      "metadata": {
        "collapsed": true,
        "id": "1hNwasDb3Rqb",
        "colab": {
          "base_uri": "https://localhost:8080/"
        },
        "outputId": "60f9157d-a253-4c91-e070-e256fa4c931f"
      },
      "outputs": [
        {
          "output_type": "stream",
          "name": "stdout",
          "text": [
            "[[[2. 2. 2.]\n",
            "  [2. 2. 2.]\n",
            "  [2. 2. 2.]\n",
            "  [2. 2. 2.]\n",
            "  [2. 2. 2.]]\n",
            "\n",
            " [[2. 2. 2.]\n",
            "  [2. 2. 2.]\n",
            "  [2. 2. 2.]\n",
            "  [2. 2. 2.]\n",
            "  [2. 2. 2.]]\n",
            "\n",
            " [[2. 2. 2.]\n",
            "  [2. 2. 2.]\n",
            "  [2. 2. 2.]\n",
            "  [2. 2. 2.]\n",
            "  [2. 2. 2.]]\n",
            "\n",
            " [[2. 2. 2.]\n",
            "  [2. 2. 2.]\n",
            "  [2. 2. 2.]\n",
            "  [2. 2. 2.]\n",
            "  [2. 2. 2.]]\n",
            "\n",
            " [[2. 2. 2.]\n",
            "  [2. 2. 2.]\n",
            "  [2. 2. 2.]\n",
            "  [2. 2. 2.]\n",
            "  [2. 2. 2.]]]\n"
          ]
        }
      ],
      "source": [
        "A = np.ones((5,5,3))\n",
        "B = 2*np.ones((5,5))\n",
        "print(A * B[:,:,None])"
      ]
    },
    {
      "cell_type": "markdown",
      "metadata": {
        "id": "0AuH3DaX3Rqb"
      },
      "source": [
        "#### 72. How to swap two rows of an array? (★★★) \n",
        "(**hint**: array\\[\\[\\]\\] = array\\[\\[\\]\\])"
      ]
    },
    {
      "cell_type": "code",
      "execution_count": null,
      "metadata": {
        "id": "-xJY-BED3Rqb",
        "colab": {
          "base_uri": "https://localhost:8080/"
        },
        "outputId": "ea013cdb-7904-4327-9db5-e404c6dafbe2"
      },
      "outputs": [
        {
          "output_type": "stream",
          "name": "stdout",
          "text": [
            "[[ 5  6  7  8  9]\n",
            " [ 0  1  2  3  4]\n",
            " [10 11 12 13 14]\n",
            " [15 16 17 18 19]\n",
            " [20 21 22 23 24]]\n"
          ]
        }
      ],
      "source": [
        "A = np.arange(25).reshape(5,5)\n",
        "A[[0,1]] = A[[1,0]]\n",
        "print(A)"
      ]
    },
    {
      "cell_type": "markdown",
      "metadata": {
        "id": "ug8T9fio3Rqb"
      },
      "source": [
        "#### 73. Consider a set of 10 triplets describing 10 triangles (with shared vertices), find the set of unique line segments composing all the  triangles (★★★) \n",
        "(**hint**: repeat, np.roll, np.sort, view, np.unique)"
      ]
    },
    {
      "cell_type": "code",
      "execution_count": null,
      "metadata": {
        "id": "cykonF4h3Rqb",
        "colab": {
          "base_uri": "https://localhost:8080/"
        },
        "outputId": "4fac490e-1b7d-40a9-dc78-97eef094ca1c"
      },
      "outputs": [
        {
          "output_type": "stream",
          "name": "stdout",
          "text": [
            "[( 0, 24) ( 0, 25) ( 1, 92) ( 1, 98) ( 8, 35) ( 8, 90) (13, 37) (13, 40)\n",
            " (16, 17) (16, 19) (16, 22) (16, 40) (16, 47) (16, 54) (17, 19) (22, 54)\n",
            " (22, 81) (22, 95) (24, 25) (28, 67) (28, 88) (35, 90) (37, 40) (40, 47)\n",
            " (60, 71) (60, 83) (67, 88) (71, 83) (81, 95) (92, 98)]\n"
          ]
        }
      ],
      "source": [
        "faces = np.random.randint(0,100,(10,3))\n",
        "F = np.roll(faces.repeat(2,axis=1),-1,axis=1)\n",
        "F = F.reshape(len(F)*3,2)\n",
        "F = np.sort(F,axis=1)\n",
        "G = F.view( dtype=[('p0',F.dtype),('p1',F.dtype)] )\n",
        "G = np.unique(G)\n",
        "print(G)"
      ]
    },
    {
      "cell_type": "markdown",
      "metadata": {
        "id": "zAWAgc903Rqb"
      },
      "source": [
        "#### 74. Given an array C that is a bincount, how to produce an array A such that np.bincount(A) == C? (★★★) \n",
        "(**hint**: np.repeat)"
      ]
    },
    {
      "cell_type": "code",
      "execution_count": null,
      "metadata": {
        "id": "jJTfD8Cb3Rqb",
        "colab": {
          "base_uri": "https://localhost:8080/"
        },
        "outputId": "39c0cb24-7c3a-4383-b488-232fb3fe8faf"
      },
      "outputs": [
        {
          "output_type": "stream",
          "name": "stdout",
          "text": [
            "[1 1 2 3 4 4 6]\n"
          ]
        }
      ],
      "source": [
        "A = np.bincount([1,1,2,3,4,4,6])\n",
        "B = np.repeat(np.arange(len(A)), A)\n",
        "print(B)"
      ]
    },
    {
      "cell_type": "markdown",
      "metadata": {
        "id": "CfRw0eeO3Rqb"
      },
      "source": [
        "#### 75. How to compute averages using a sliding window over an array? (★★★) \n",
        "(**hint**: np.cumsum)"
      ]
    },
    {
      "cell_type": "code",
      "execution_count": null,
      "metadata": {
        "id": "2xCaeIdb3Rqb",
        "colab": {
          "base_uri": "https://localhost:8080/"
        },
        "outputId": "3665e497-b6f9-4184-c5eb-a12c845fc177"
      },
      "outputs": [
        {
          "output_type": "stream",
          "name": "stdout",
          "text": [
            "[ 1.  2.  3.  4.  5.  6.  7.  8.  9. 10. 11. 12. 13. 14. 15. 16. 17. 18.]\n"
          ]
        }
      ],
      "source": [
        "def moving_average(a, n=3) :\n",
        "    ret = np.cumsum(a, dtype=float)\n",
        "    ret[n:] = ret[n:] - ret[:-n]\n",
        "    return ret[n - 1:] / n\n",
        "N = np.arange(20)\n",
        "print(moving_average(N, n=3))"
      ]
    },
    {
      "cell_type": "markdown",
      "metadata": {
        "id": "zcgkR7EP3Rqb"
      },
      "source": [
        "#### 76. Consider a one-dimensional array Z, build a two-dimensional array whose first row is (Z\\[0\\],Z\\[1\\],Z\\[2\\]) and each subsequent row is  shifted by 1 (last row should be (Z\\[-3\\],Z\\[-2\\],Z\\[-1\\]) (★★★) \n",
        "(**hint**: from numpy.lib import stride_tricks)"
      ]
    },
    {
      "cell_type": "code",
      "execution_count": null,
      "metadata": {
        "id": "kqCQ9px43Rqb",
        "colab": {
          "base_uri": "https://localhost:8080/"
        },
        "outputId": "1bea529f-db5e-4908-f171-c5ed3368f3da"
      },
      "outputs": [
        {
          "output_type": "stream",
          "name": "stdout",
          "text": [
            "[[0 1 2]\n",
            " [1 2 3]\n",
            " [2 3 4]\n",
            " [3 4 5]\n",
            " [4 5 6]\n",
            " [5 6 7]\n",
            " [6 7 8]\n",
            " [7 8 9]]\n"
          ]
        }
      ],
      "source": [
        "from numpy.lib import stride_tricks\n",
        "\n",
        "def rolling(a, window):\n",
        "    shape = (a.size - window + 1, window)\n",
        "    strides = (a.itemsize, a.itemsize)\n",
        "    return stride_tricks.as_strided(a, shape=shape, strides=strides)\n",
        "N = rolling(np.arange(10), 3)\n",
        "print(N)"
      ]
    },
    {
      "cell_type": "markdown",
      "metadata": {
        "id": "lKdJO6G13Rqb"
      },
      "source": [
        "#### 77. How to negate a boolean, or to change the sign of a float inplace? (★★★) \n",
        "(**hint**: np.logical_not, np.negative)"
      ]
    },
    {
      "cell_type": "code",
      "execution_count": null,
      "metadata": {
        "id": "CvMNUl423Rqb",
        "colab": {
          "base_uri": "https://localhost:8080/"
        },
        "outputId": "f43cd350-edb8-40b5-879c-46527bfaccb3"
      },
      "outputs": [
        {
          "output_type": "execute_result",
          "data": {
            "text/plain": [
              "array([ 0.84733324, -0.31697751, -0.88803722, -0.80926427, -0.70838061,\n",
              "       -0.35778049, -0.58489636, -0.84535923, -0.25486973,  0.81883943,\n",
              "        0.30971844, -0.95797077, -0.61305856,  0.30015635,  0.79287422,\n",
              "        0.73164621, -0.7056732 ,  0.37373045,  0.51553613,  0.42285459,\n",
              "        0.15747574, -0.56765298,  0.93335123,  0.56353275,  0.25196474,\n",
              "       -0.59036016,  0.42698945,  0.2575049 ,  0.54096129,  0.05267409,\n",
              "       -0.56667083, -0.0356087 , -0.87581756, -0.72413992, -0.64953655,\n",
              "       -0.62712571,  0.92450987, -0.7194962 , -0.41079043,  0.33600044,\n",
              "        0.72193828, -0.39848134, -0.2237735 ,  0.96384315,  0.17970232,\n",
              "        0.66532677, -0.41774957,  0.6764852 , -0.47360779,  0.5796586 ,\n",
              "       -0.51780462, -0.82268314,  0.71924913,  0.61242382,  0.65194629,\n",
              "        0.91326084,  0.59804461,  0.19220574, -0.26092265, -0.05948529,\n",
              "        0.11194385, -0.93388096,  0.3120986 ,  0.78008373, -0.13181942,\n",
              "       -0.60765728,  0.19388373,  0.81700997, -0.43849285,  0.73918574,\n",
              "        0.00585454,  0.18019926, -0.49494458,  0.67891167,  0.47904638,\n",
              "       -0.05171552,  0.74856528, -0.90286881,  0.93066893, -0.04637847,\n",
              "       -0.98862999, -0.02986699, -0.79563561, -0.14178421,  0.69467159,\n",
              "       -0.25149307,  0.75039846,  0.32759716, -0.97889921, -0.83842164,\n",
              "       -0.81026244,  0.42674326,  0.27172766, -0.37338392, -0.8310278 ,\n",
              "        0.88941231, -0.46740476, -0.37873278,  0.87862392, -0.94234071])"
            ]
          },
          "metadata": {},
          "execution_count": 110
        }
      ],
      "source": [
        "N = np.random.randint(0,2,100)\n",
        "np.logical_not(N, out=N)\n",
        "\n",
        "N = np.random.uniform(-1.0,1.0,100)\n",
        "np.negative(N, out=N)"
      ]
    },
    {
      "cell_type": "markdown",
      "metadata": {
        "id": "2J4VHFfb3Rqb"
      },
      "source": [
        "#### 78. Consider 2 sets of points P0,P1 describing lines (2d) and a point p, how to compute distance from p to each line i  (P0\\[i\\],P1\\[i\\])? (★★★)"
      ]
    },
    {
      "cell_type": "code",
      "execution_count": null,
      "metadata": {
        "id": "WmqPsvYh3Rqb",
        "colab": {
          "base_uri": "https://localhost:8080/"
        },
        "outputId": "f1aa1bba-8a4a-4d61-da0f-e4351d960f89"
      },
      "outputs": [
        {
          "output_type": "stream",
          "name": "stdout",
          "text": [
            "[1.65904067 3.28088071 0.90985701 3.43263335 5.5268526  8.93080812\n",
            " 5.15218387 7.42140223 8.86152718 2.29286068]\n"
          ]
        }
      ],
      "source": [
        "def distance(A, B, C):\n",
        "    T = B - A\n",
        "    L = (T**2).sum(axis=1)\n",
        "    U = -((A[:,0]-C[...,0])*T[:,0] + (A[:,1]-C[...,1])*T[:,1]) / L\n",
        "    U = U.reshape(len(U),1)\n",
        "    D = A + U*T - C\n",
        "    return np.sqrt((D**2).sum(axis=1))\n",
        "\n",
        "A = np.random.uniform(-10,10,(10,2))\n",
        "B = np.random.uniform(-10,10,(10,2))\n",
        "C  = np.random.uniform(-10,10,( 1,2))\n",
        "print(distance(A, B, C))"
      ]
    },
    {
      "cell_type": "markdown",
      "metadata": {
        "id": "acwV_8SD3Rqb"
      },
      "source": [
        "#### 79. Consider 2 sets of points P0,P1 describing lines (2d) and a set of points P, how to compute distance from each point j (P\\[j\\]) to each line i (P0\\[i\\],P1\\[i\\])? (★★★)"
      ]
    },
    {
      "cell_type": "code",
      "execution_count": null,
      "metadata": {
        "id": "_CCVLF_63Rqc",
        "colab": {
          "base_uri": "https://localhost:8080/"
        },
        "outputId": "e6e9c662-9a9d-4143-fcef-d0fe6e53fc74"
      },
      "outputs": [
        {
          "output_type": "stream",
          "name": "stdout",
          "text": [
            "[[ 3.7828541   3.04184089 11.16486967  2.54973078 11.43450173  0.52022947\n",
            "   7.38636127 10.1802215   2.04086212  0.18009952]\n",
            " [ 6.02824233  1.45656817  5.40883142  0.63980016  4.80317347 15.14347093\n",
            "  12.44406009  3.36567361 14.6018833   1.39162838]\n",
            " [12.27852569 10.52290757 17.7846449   2.76022602 16.08841901  8.31946159\n",
            "   0.23935593  7.16486878  6.54665227  5.26717126]\n",
            " [10.9937371   8.96182511 17.71014843  1.12264401 16.51193981  7.83081239\n",
            "   1.30289685  8.68942564  5.52234133  3.62746434]\n",
            " [12.31967997 11.58379578 15.60732467  4.77587994 13.42297222  6.71005964\n",
            "   1.20388811  4.60241843  5.93405235  7.23904312]\n",
            " [ 8.24369338 10.51340521  7.00017067  7.12000949  4.58246687  1.08093926\n",
            "   0.174489    0.21407075  0.20583388  9.40803196]\n",
            " [ 2.59520159  4.2702272   9.85150196  9.82932838 12.38903971  2.60901359\n",
            "  14.64640275 16.6604671   7.40521648  7.48922754]\n",
            " [ 6.31705683 10.85297701  1.10859171  9.87009198  1.81434864  6.12281577\n",
            "   0.06058589  4.5931676   3.04161393 12.03865183]\n",
            " [ 9.19181604  9.62409481 11.45673403  4.36409585  9.62499763  2.56121603\n",
            "   0.88433648  3.73673457  2.26504362  6.74223514]\n",
            " [ 9.75410165 12.09961855  7.62467073  8.561575    4.73780305  0.10618378\n",
            "   1.41317456  1.38718022  1.56900473 10.86289703]]\n"
          ]
        }
      ],
      "source": [
        "X = np.random.uniform(-10, 10, (10,2))\n",
        "Y = np.random.uniform(-10,10,(10,2))\n",
        "Z = np.random.uniform(-10, 10, (10,2))\n",
        "print(np.array([distance(X,Y,Z_i) for Z_i in Z]))"
      ]
    },
    {
      "cell_type": "markdown",
      "metadata": {
        "id": "MDyvA1cX3Rqc"
      },
      "source": [
        "#### 80. Consider an arbitrary array, write a function that extract a subpart with a fixed shape and centered on a given element (pad with a `fill` value when necessary) (★★★) \n",
        "(**hint**: minimum, maximum)"
      ]
    },
    {
      "cell_type": "code",
      "execution_count": null,
      "metadata": {
        "id": "_7BEjDnd3Rqc",
        "colab": {
          "base_uri": "https://localhost:8080/"
        },
        "outputId": "17160d93-3dcb-499a-acfe-9fafb4f2ce84"
      },
      "outputs": [
        {
          "output_type": "stream",
          "name": "stdout",
          "text": [
            "[[5 8 4 5 7 5 5 5 8 6]\n",
            " [5 3 7 1 1 4 8 6 8 5]\n",
            " [7 5 4 1 5 7 2 2 1 6]\n",
            " [2 4 8 9 1 4 0 2 0 0]\n",
            " [3 9 3 3 5 5 3 1 9 1]\n",
            " [0 8 8 2 4 9 3 6 1 4]\n",
            " [1 2 0 9 5 9 6 8 1 4]\n",
            " [1 6 6 2 2 5 9 5 9 0]\n",
            " [7 4 7 8 4 5 2 3 5 3]\n",
            " [1 0 6 6 6 2 6 4 4 6]]\n",
            "[[0 0 0 0 0]\n",
            " [0 5 8 4 5]\n",
            " [0 5 3 7 1]\n",
            " [0 7 5 4 1]\n",
            " [0 2 4 8 9]]\n"
          ]
        },
        {
          "output_type": "stream",
          "name": "stderr",
          "text": [
            "/usr/local/lib/python3.7/dist-packages/ipykernel_launcher.py:23: FutureWarning: Using a non-tuple sequence for multidimensional indexing is deprecated; use `arr[tuple(seq)]` instead of `arr[seq]`. In the future this will be interpreted as an array index, `arr[np.array(seq)]`, which will result either in an error or a different result.\n"
          ]
        }
      ],
      "source": [
        "Z = np.random.randint(0,10,(10,10))\n",
        "shape = (5,5)\n",
        "fill  = 0\n",
        "position = (1,1)\n",
        "\n",
        "R = np.ones(shape, dtype=Z.dtype)*fill\n",
        "P  = np.array(list(position)).astype(int)\n",
        "Rs = np.array(list(R.shape)).astype(int)\n",
        "Zs = np.array(list(Z.shape)).astype(int)\n",
        "\n",
        "R_start = np.zeros((len(shape),)).astype(int)\n",
        "R_stop  = np.array(list(shape)).astype(int)\n",
        "Z_start = (P-Rs//2)\n",
        "Z_stop  = (P+Rs//2)+Rs%2\n",
        "\n",
        "R_start = (R_start - np.minimum(Z_start,0)).tolist()\n",
        "Z_start = (np.maximum(Z_start,0)).tolist()\n",
        "R_stop = np.maximum(R_start, (R_stop - np.maximum(Z_stop-Zs,0))).tolist()\n",
        "Z_stop = (np.minimum(Z_stop,Zs)).tolist()\n",
        "\n",
        "r = [slice(start,stop) for start,stop in zip(R_start,R_stop)]\n",
        "z = [slice(start,stop) for start,stop in zip(Z_start,Z_stop)]\n",
        "R[r] = Z[z]\n",
        "print(Z)\n",
        "print(R)"
      ]
    },
    {
      "cell_type": "markdown",
      "metadata": {
        "id": "RQpP3ZA53Rqc"
      },
      "source": [
        "#### 81. Consider an array Z = \\[1,2,3,4,5,6,7,8,9,10,11,12,13,14\\], how to generate an array R = \\[\\[1,2,3,4\\], \\[2,3,4,5\\], \\[3,4,5,6\\], ..., \\[11,12,13,14\\]\\]? (★★★) \n",
        "(**hint**: stride\\_tricks.as\\_strided)"
      ]
    },
    {
      "cell_type": "code",
      "execution_count": null,
      "metadata": {
        "id": "caTgpU0t3Rqc",
        "colab": {
          "base_uri": "https://localhost:8080/"
        },
        "outputId": "77cddedc-2f65-40cb-83ee-1c898ecee1b4"
      },
      "outputs": [
        {
          "output_type": "stream",
          "name": "stdout",
          "text": [
            "[[ 1  2  3  4]\n",
            " [ 2  3  4  5]\n",
            " [ 3  4  5  6]\n",
            " [ 4  5  6  7]\n",
            " [ 5  6  7  8]\n",
            " [ 6  7  8  9]\n",
            " [ 7  8  9 10]\n",
            " [ 8  9 10 11]\n",
            " [ 9 10 11 12]\n",
            " [10 11 12 13]\n",
            " [11 12 13 14]]\n"
          ]
        }
      ],
      "source": [
        "A = np.arange(1,15,dtype=np.uint32)\n",
        "B = stride_tricks.as_strided(A,(11,4),(4,4))\n",
        "print(B)"
      ]
    },
    {
      "cell_type": "markdown",
      "metadata": {
        "id": "yH3gf97z3Rqc"
      },
      "source": [
        "#### 82. Compute a matrix rank (★★★) \n",
        "(**hint**: np.linalg.svd) (suggestion: np.linalg.svd)"
      ]
    },
    {
      "cell_type": "code",
      "execution_count": null,
      "metadata": {
        "id": "sZLrmXN43Rqc",
        "colab": {
          "base_uri": "https://localhost:8080/"
        },
        "outputId": "f3d3722b-5820-44ba-c3b8-30cb17ff2bf7"
      },
      "outputs": [
        {
          "output_type": "stream",
          "name": "stdout",
          "text": [
            "10\n"
          ]
        }
      ],
      "source": [
        "Z = np.random.uniform(0,1,(10,10))\n",
        "U, S, V = np.linalg.svd(Z)\n",
        "rank = np.sum(S > 1e-10)\n",
        "print(rank)"
      ]
    },
    {
      "cell_type": "markdown",
      "metadata": {
        "id": "o3WSDkD13Rqc"
      },
      "source": [
        "#### 83. How to find the most frequent value in an array? \n",
        "(**hint**: np.bincount, argmax)"
      ]
    },
    {
      "cell_type": "code",
      "execution_count": null,
      "metadata": {
        "id": "XN4yTXC53Rqc",
        "colab": {
          "base_uri": "https://localhost:8080/"
        },
        "outputId": "789411c6-561e-4c7e-c8a8-4c05fbafcf51"
      },
      "outputs": [
        {
          "output_type": "stream",
          "name": "stdout",
          "text": [
            "1\n"
          ]
        }
      ],
      "source": [
        "N = np.random.randint(0,10,50)\n",
        "print(np.bincount(N).argmax())"
      ]
    },
    {
      "cell_type": "markdown",
      "metadata": {
        "id": "OjuKB8MN3Rqc"
      },
      "source": [
        "#### 84. Extract all the contiguous 3x3 blocks from a random 10x10 matrix (★★★) \n",
        "(**hint**: stride\\_tricks.as\\_strided)"
      ]
    },
    {
      "cell_type": "code",
      "execution_count": null,
      "metadata": {
        "id": "geFM0G713Rqc",
        "colab": {
          "base_uri": "https://localhost:8080/"
        },
        "outputId": "ec8ccd9e-acf7-486e-ce33-218cb085b370"
      },
      "outputs": [
        {
          "output_type": "stream",
          "name": "stdout",
          "text": [
            "[[[[0 1 1]\n",
            "   [2 2 4]\n",
            "   [4 0 0]]\n",
            "\n",
            "  [[1 1 3]\n",
            "   [2 4 3]\n",
            "   [0 0 2]]\n",
            "\n",
            "  [[1 3 2]\n",
            "   [4 3 1]\n",
            "   [0 2 1]]\n",
            "\n",
            "  [[3 2 1]\n",
            "   [3 1 2]\n",
            "   [2 1 4]]\n",
            "\n",
            "  [[2 1 0]\n",
            "   [1 2 0]\n",
            "   [1 4 1]]\n",
            "\n",
            "  [[1 0 2]\n",
            "   [2 0 1]\n",
            "   [4 1 0]]\n",
            "\n",
            "  [[0 2 3]\n",
            "   [0 1 4]\n",
            "   [1 0 0]]\n",
            "\n",
            "  [[2 3 0]\n",
            "   [1 4 1]\n",
            "   [0 0 0]]]\n",
            "\n",
            "\n",
            " [[[2 2 4]\n",
            "   [4 0 0]\n",
            "   [3 0 4]]\n",
            "\n",
            "  [[2 4 3]\n",
            "   [0 0 2]\n",
            "   [0 4 0]]\n",
            "\n",
            "  [[4 3 1]\n",
            "   [0 2 1]\n",
            "   [4 0 3]]\n",
            "\n",
            "  [[3 1 2]\n",
            "   [2 1 4]\n",
            "   [0 3 1]]\n",
            "\n",
            "  [[1 2 0]\n",
            "   [1 4 1]\n",
            "   [3 1 3]]\n",
            "\n",
            "  [[2 0 1]\n",
            "   [4 1 0]\n",
            "   [1 3 4]]\n",
            "\n",
            "  [[0 1 4]\n",
            "   [1 0 0]\n",
            "   [3 4 4]]\n",
            "\n",
            "  [[1 4 1]\n",
            "   [0 0 0]\n",
            "   [4 4 4]]]\n",
            "\n",
            "\n",
            " [[[4 0 0]\n",
            "   [3 0 4]\n",
            "   [2 3 2]]\n",
            "\n",
            "  [[0 0 2]\n",
            "   [0 4 0]\n",
            "   [3 2 2]]\n",
            "\n",
            "  [[0 2 1]\n",
            "   [4 0 3]\n",
            "   [2 2 1]]\n",
            "\n",
            "  [[2 1 4]\n",
            "   [0 3 1]\n",
            "   [2 1 3]]\n",
            "\n",
            "  [[1 4 1]\n",
            "   [3 1 3]\n",
            "   [1 3 3]]\n",
            "\n",
            "  [[4 1 0]\n",
            "   [1 3 4]\n",
            "   [3 3 3]]\n",
            "\n",
            "  [[1 0 0]\n",
            "   [3 4 4]\n",
            "   [3 3 0]]\n",
            "\n",
            "  [[0 0 0]\n",
            "   [4 4 4]\n",
            "   [3 0 4]]]\n",
            "\n",
            "\n",
            " [[[3 0 4]\n",
            "   [2 3 2]\n",
            "   [2 2 3]]\n",
            "\n",
            "  [[0 4 0]\n",
            "   [3 2 2]\n",
            "   [2 3 1]]\n",
            "\n",
            "  [[4 0 3]\n",
            "   [2 2 1]\n",
            "   [3 1 4]]\n",
            "\n",
            "  [[0 3 1]\n",
            "   [2 1 3]\n",
            "   [1 4 3]]\n",
            "\n",
            "  [[3 1 3]\n",
            "   [1 3 3]\n",
            "   [4 3 1]]\n",
            "\n",
            "  [[1 3 4]\n",
            "   [3 3 3]\n",
            "   [3 1 0]]\n",
            "\n",
            "  [[3 4 4]\n",
            "   [3 3 0]\n",
            "   [1 0 0]]\n",
            "\n",
            "  [[4 4 4]\n",
            "   [3 0 4]\n",
            "   [0 0 4]]]\n",
            "\n",
            "\n",
            " [[[2 3 2]\n",
            "   [2 2 3]\n",
            "   [0 3 3]]\n",
            "\n",
            "  [[3 2 2]\n",
            "   [2 3 1]\n",
            "   [3 3 2]]\n",
            "\n",
            "  [[2 2 1]\n",
            "   [3 1 4]\n",
            "   [3 2 1]]\n",
            "\n",
            "  [[2 1 3]\n",
            "   [1 4 3]\n",
            "   [2 1 1]]\n",
            "\n",
            "  [[1 3 3]\n",
            "   [4 3 1]\n",
            "   [1 1 1]]\n",
            "\n",
            "  [[3 3 3]\n",
            "   [3 1 0]\n",
            "   [1 1 2]]\n",
            "\n",
            "  [[3 3 0]\n",
            "   [1 0 0]\n",
            "   [1 2 0]]\n",
            "\n",
            "  [[3 0 4]\n",
            "   [0 0 4]\n",
            "   [2 0 2]]]\n",
            "\n",
            "\n",
            " [[[2 2 3]\n",
            "   [0 3 3]\n",
            "   [0 1 1]]\n",
            "\n",
            "  [[2 3 1]\n",
            "   [3 3 2]\n",
            "   [1 1 4]]\n",
            "\n",
            "  [[3 1 4]\n",
            "   [3 2 1]\n",
            "   [1 4 4]]\n",
            "\n",
            "  [[1 4 3]\n",
            "   [2 1 1]\n",
            "   [4 4 0]]\n",
            "\n",
            "  [[4 3 1]\n",
            "   [1 1 1]\n",
            "   [4 0 2]]\n",
            "\n",
            "  [[3 1 0]\n",
            "   [1 1 2]\n",
            "   [0 2 3]]\n",
            "\n",
            "  [[1 0 0]\n",
            "   [1 2 0]\n",
            "   [2 3 0]]\n",
            "\n",
            "  [[0 0 4]\n",
            "   [2 0 2]\n",
            "   [3 0 3]]]\n",
            "\n",
            "\n",
            " [[[0 3 3]\n",
            "   [0 1 1]\n",
            "   [3 1 1]]\n",
            "\n",
            "  [[3 3 2]\n",
            "   [1 1 4]\n",
            "   [1 1 4]]\n",
            "\n",
            "  [[3 2 1]\n",
            "   [1 4 4]\n",
            "   [1 4 4]]\n",
            "\n",
            "  [[2 1 1]\n",
            "   [4 4 0]\n",
            "   [4 4 0]]\n",
            "\n",
            "  [[1 1 1]\n",
            "   [4 0 2]\n",
            "   [4 0 4]]\n",
            "\n",
            "  [[1 1 2]\n",
            "   [0 2 3]\n",
            "   [0 4 0]]\n",
            "\n",
            "  [[1 2 0]\n",
            "   [2 3 0]\n",
            "   [4 0 4]]\n",
            "\n",
            "  [[2 0 2]\n",
            "   [3 0 3]\n",
            "   [0 4 3]]]\n",
            "\n",
            "\n",
            " [[[0 1 1]\n",
            "   [3 1 1]\n",
            "   [0 3 1]]\n",
            "\n",
            "  [[1 1 4]\n",
            "   [1 1 4]\n",
            "   [3 1 1]]\n",
            "\n",
            "  [[1 4 4]\n",
            "   [1 4 4]\n",
            "   [1 1 2]]\n",
            "\n",
            "  [[4 4 0]\n",
            "   [4 4 0]\n",
            "   [1 2 0]]\n",
            "\n",
            "  [[4 0 2]\n",
            "   [4 0 4]\n",
            "   [2 0 1]]\n",
            "\n",
            "  [[0 2 3]\n",
            "   [0 4 0]\n",
            "   [0 1 0]]\n",
            "\n",
            "  [[2 3 0]\n",
            "   [4 0 4]\n",
            "   [1 0 3]]\n",
            "\n",
            "  [[3 0 3]\n",
            "   [0 4 3]\n",
            "   [0 3 4]]]]\n"
          ]
        }
      ],
      "source": [
        "N = np.random.randint(0,5,(10,10))\n",
        "n = 3\n",
        "i = 1 + (N.shape[0]-3)\n",
        "j = 1 + (N.shape[1]-3)\n",
        "Z = stride_tricks.as_strided(N, shape=(i, j, n, n), strides=N.strides + N.strides)\n",
        "print(Z)"
      ]
    },
    {
      "cell_type": "markdown",
      "metadata": {
        "id": "xYcOcqIi3Rqc"
      },
      "source": [
        "#### 85. Create a 2D array subclass such that Z\\[i,j\\] == Z\\[j,i\\] (★★★) \n",
        "(**hint**: class method)"
      ]
    },
    {
      "cell_type": "code",
      "execution_count": null,
      "metadata": {
        "id": "1awLGUWP3Rqc",
        "colab": {
          "base_uri": "https://localhost:8080/"
        },
        "outputId": "4297ad6a-868f-4747-c40a-171bce257b37"
      },
      "outputs": [
        {
          "output_type": "stream",
          "name": "stdout",
          "text": [
            "[[ 6  7  4 13 11]\n",
            " [ 7  7 14  8  4]\n",
            " [ 4 14  0 42 11]\n",
            " [13  8 42  2 12]\n",
            " [11  4 11 12  1]]\n"
          ]
        }
      ],
      "source": [
        "class Symetric(np.ndarray):\n",
        "    def __setitem__(self, index, value):\n",
        "        i,j = index\n",
        "        super(Symetric, self).__setitem__((i,j), value)\n",
        "        super(Symetric, self).__setitem__((j,i), value)\n",
        "\n",
        "def symetric(Z):\n",
        "    return np.asarray(Z + Z.T - np.diag(Z.diagonal())).view(Symetric)\n",
        "\n",
        "N = symetric(np.random.randint(0,10,(5,5)))\n",
        "N[2,3] = 42\n",
        "print(N)"
      ]
    },
    {
      "cell_type": "markdown",
      "metadata": {
        "id": "w5TmfSzI3Rqc"
      },
      "source": [
        "#### 86. Consider a set of p matrices wich shape (n,n) and a set of p vectors with shape (n,1). How to compute the sum of of the p matrix products at once? (result has shape (n,1)) (★★★) \n",
        "(**hint**: np.tensordot)"
      ]
    },
    {
      "cell_type": "code",
      "execution_count": null,
      "metadata": {
        "id": "GRxJ5_iZ3Rqc",
        "colab": {
          "base_uri": "https://localhost:8080/"
        },
        "outputId": "ea50aa09-2bce-4533-e81c-6984150f173f"
      },
      "outputs": [
        {
          "output_type": "stream",
          "name": "stdout",
          "text": [
            "[[200.]\n",
            " [200.]\n",
            " [200.]\n",
            " [200.]\n",
            " [200.]\n",
            " [200.]\n",
            " [200.]\n",
            " [200.]\n",
            " [200.]\n",
            " [200.]\n",
            " [200.]\n",
            " [200.]\n",
            " [200.]\n",
            " [200.]\n",
            " [200.]\n",
            " [200.]\n",
            " [200.]\n",
            " [200.]\n",
            " [200.]\n",
            " [200.]]\n"
          ]
        }
      ],
      "source": [
        "p, n = 10, 20\n",
        "M = np.ones((p,n,n))\n",
        "V = np.ones((p,n,1))\n",
        "S = np.tensordot(M, V, axes=[[0, 2], [0, 1]])\n",
        "print(S)"
      ]
    },
    {
      "cell_type": "markdown",
      "metadata": {
        "id": "CvG7ivKp3Rqc"
      },
      "source": [
        "#### 87. Consider a 16x16 array, how to get the block-sum (block size is 4x4)? (★★★) \n",
        "(**hint**: np.add.reduceat)"
      ]
    },
    {
      "cell_type": "code",
      "execution_count": null,
      "metadata": {
        "id": "TZmPiP3r3Rqd",
        "colab": {
          "base_uri": "https://localhost:8080/"
        },
        "outputId": "dae6ba0c-af9a-402f-8e11-78965c8c7573"
      },
      "outputs": [
        {
          "output_type": "stream",
          "name": "stdout",
          "text": [
            "[[16. 16. 16. 16.]\n",
            " [16. 16. 16. 16.]\n",
            " [16. 16. 16. 16.]\n",
            " [16. 16. 16. 16.]]\n"
          ]
        }
      ],
      "source": [
        "A = np.ones((16,16))\n",
        "B = 4\n",
        "C = np.add.reduceat(np.add.reduceat(A, np.arange(0, A.shape[0], B), axis=0),\n",
        "                                       np.arange(0, A.shape[1], B), axis=1)\n",
        "print(C)"
      ]
    },
    {
      "cell_type": "markdown",
      "metadata": {
        "id": "-YjT47Tr3Rqd"
      },
      "source": [
        "#### 88. How to implement the Game of Life using numpy arrays? (★★★)"
      ]
    },
    {
      "cell_type": "code",
      "execution_count": null,
      "metadata": {
        "id": "8R8sZkD23Rqd",
        "colab": {
          "base_uri": "https://localhost:8080/"
        },
        "outputId": "b7dab9e6-7615-462f-c5ac-e7786374f67f"
      },
      "outputs": [
        {
          "output_type": "stream",
          "name": "stdout",
          "text": [
            "[[0 0 0 ... 0 0 0]\n",
            " [0 0 0 ... 0 0 0]\n",
            " [0 0 0 ... 0 0 0]\n",
            " ...\n",
            " [0 0 0 ... 1 0 0]\n",
            " [0 0 0 ... 0 0 0]\n",
            " [0 0 0 ... 0 0 0]]\n"
          ]
        }
      ],
      "source": [
        "def iterate(Z):\n",
        "    N = (Z[0:-2,0:-2] + Z[0:-2,1:-1] + Z[0:-2,2:] +\n",
        "         Z[1:-1,0:-2]                + Z[1:-1,2:] +\n",
        "         Z[2:  ,0:-2] + Z[2:  ,1:-1] + Z[2:  ,2:])\n",
        "\n",
        "    birth = (N==3) & (Z[1:-1,1:-1]==0)\n",
        "    survive = ((N==2) | (N==3)) & (Z[1:-1,1:-1]==1)\n",
        "    Z[...] = 0\n",
        "    Z[1:-1,1:-1][birth | survive] = 1\n",
        "    return Z\n",
        "\n",
        "Z = np.random.randint(0,2,(50,50))\n",
        "for i in range(100): Z = iterate(Z)\n",
        "print(Z)"
      ]
    },
    {
      "cell_type": "markdown",
      "metadata": {
        "id": "jx8jvDl-3Rqd"
      },
      "source": [
        "#### 89. How to get the n largest values of an array (★★★) \n",
        "(**hint**: np.argsort | np.argpartition)"
      ]
    },
    {
      "cell_type": "code",
      "execution_count": null,
      "metadata": {
        "id": "WvU_sbC63Rqd",
        "colab": {
          "base_uri": "https://localhost:8080/"
        },
        "outputId": "fd5b106c-b878-4a4c-d433-bdc49170726e"
      },
      "outputs": [
        {
          "output_type": "stream",
          "name": "stdout",
          "text": [
            "[9995 9996 9997 9998 9999]\n",
            "[9998 9997 9996 9999 9995]\n"
          ]
        }
      ],
      "source": [
        "Z = np.arange(10000)\n",
        "np.random.shuffle(Z)\n",
        "n = 5\n",
        "\n",
        "print (Z[np.argsort(Z)[-n:]])\n",
        "\n",
        "print (Z[np.argpartition(-Z,n)[:n]])"
      ]
    },
    {
      "cell_type": "markdown",
      "metadata": {
        "id": "QV_dpbUM3Rqd"
      },
      "source": [
        "#### 90. Given an arbitrary number of vectors, build the cartesian product (every combinations of every item) (★★★) \n",
        "(**hint**: np.indices)"
      ]
    },
    {
      "cell_type": "code",
      "execution_count": null,
      "metadata": {
        "id": "_V6L7bW93Rqd",
        "scrolled": true,
        "colab": {
          "base_uri": "https://localhost:8080/"
        },
        "outputId": "11ed7a83-7470-4528-fe43-90a3b1150adf"
      },
      "outputs": [
        {
          "output_type": "stream",
          "name": "stdout",
          "text": [
            "[[1 4 6]\n",
            " [1 4 7]\n",
            " [1 5 6]\n",
            " [1 5 7]\n",
            " [2 4 6]\n",
            " [2 4 7]\n",
            " [2 5 6]\n",
            " [2 5 7]\n",
            " [3 4 6]\n",
            " [3 4 7]\n",
            " [3 5 6]\n",
            " [3 5 7]]\n"
          ]
        }
      ],
      "source": [
        "def cartesian(arrays):\n",
        "    arrays = [np.asarray(a) for a in arrays]\n",
        "    shape = (len(x) for x in arrays)\n",
        "\n",
        "    ix = np.indices(shape, dtype=int)\n",
        "    ix = ix.reshape(len(arrays), -1).T\n",
        "\n",
        "    for n, arr in enumerate(arrays):\n",
        "        ix[:, n] = arrays[n][ix[:, n]]\n",
        "\n",
        "    return ix\n",
        "\n",
        "print (cartesian(([1, 2, 3], [4, 5], [6, 7])))"
      ]
    },
    {
      "cell_type": "markdown",
      "metadata": {
        "id": "dd41QPBY3Rqd"
      },
      "source": [
        "#### 91. How to create a record array from a regular array? (★★★) \n",
        "(**hint**: np.core.records.fromarrays)"
      ]
    },
    {
      "cell_type": "code",
      "execution_count": null,
      "metadata": {
        "id": "KqofQckl3Rqd",
        "colab": {
          "base_uri": "https://localhost:8080/"
        },
        "outputId": "ffff8889-dde7-450b-b28f-d8a25e969f86"
      },
      "outputs": [
        {
          "output_type": "stream",
          "name": "stdout",
          "text": [
            "[(b'Hello', 2.5, 3) (b'World', 3.6, 2)]\n"
          ]
        }
      ],
      "source": [
        "X = np.array([(\"Hello\", 2.5, 3),\n",
        "              (\"World\", 3.6, 2)])\n",
        "Y = np.core.records.fromarrays(X.T, \n",
        "                               names='col1, col2, col3',\n",
        "                               formats = 'S8, f8, i8')\n",
        "print(Y)"
      ]
    },
    {
      "cell_type": "markdown",
      "metadata": {
        "id": "ZTe627N43Rqd"
      },
      "source": [
        "#### 92. Consider a large vector Z, compute Z to the power of 3 using 3 different methods (★★★) \n",
        "(**hint**: np.power, \\*, np.einsum)"
      ]
    },
    {
      "cell_type": "code",
      "execution_count": null,
      "metadata": {
        "id": "88lyHMLJ3Rqd",
        "colab": {
          "base_uri": "https://localhost:8080/",
          "height": 352
        },
        "outputId": "d922e03e-2ed2-4734-8524-957c59aa703a"
      },
      "outputs": [
        {
          "output_type": "error",
          "ename": "TypeError",
          "evalue": "ignored",
          "traceback": [
            "\u001b[0;31m---------------------------------------------------------------------------\u001b[0m",
            "\u001b[0;31mTypeError\u001b[0m                                 Traceback (most recent call last)",
            "\u001b[0;32m<ipython-input-125-bec709347ae7>\u001b[0m in \u001b[0;36m<module>\u001b[0;34m()\u001b[0m\n\u001b[0;32m----> 1\u001b[0;31m \u001b[0mA\u001b[0m \u001b[0;34m=\u001b[0m \u001b[0mnp\u001b[0m\u001b[0;34m.\u001b[0m\u001b[0mrandom\u001b[0m\u001b[0;34m.\u001b[0m\u001b[0mrand\u001b[0m\u001b[0;34m(\u001b[0m\u001b[0;36m5e7\u001b[0m\u001b[0;34m)\u001b[0m\u001b[0;34m\u001b[0m\u001b[0;34m\u001b[0m\u001b[0m\n\u001b[0m\u001b[1;32m      2\u001b[0m \u001b[0;34m\u001b[0m\u001b[0m\n\u001b[1;32m      3\u001b[0m \u001b[0mget_ipython\u001b[0m\u001b[0;34m(\u001b[0m\u001b[0;34m)\u001b[0m\u001b[0;34m.\u001b[0m\u001b[0mmagic\u001b[0m\u001b[0;34m(\u001b[0m\u001b[0;34m'timeit np.power(A,3)'\u001b[0m\u001b[0;34m)\u001b[0m\u001b[0;34m\u001b[0m\u001b[0;34m\u001b[0m\u001b[0m\n\u001b[1;32m      4\u001b[0m \u001b[0mget_ipython\u001b[0m\u001b[0;34m(\u001b[0m\u001b[0;34m)\u001b[0m\u001b[0;34m.\u001b[0m\u001b[0mmagic\u001b[0m\u001b[0;34m(\u001b[0m\u001b[0;34m'timeit A*A*A'\u001b[0m\u001b[0;34m)\u001b[0m\u001b[0;34m\u001b[0m\u001b[0;34m\u001b[0m\u001b[0m\n\u001b[1;32m      5\u001b[0m \u001b[0mget_ipython\u001b[0m\u001b[0;34m(\u001b[0m\u001b[0;34m)\u001b[0m\u001b[0;34m.\u001b[0m\u001b[0mmagic\u001b[0m\u001b[0;34m(\u001b[0m\u001b[0;34m\"timeit np.einsum('i,i,i->i',A,A,A)\"\u001b[0m\u001b[0;34m)\u001b[0m\u001b[0;34m\u001b[0m\u001b[0;34m\u001b[0m\u001b[0m\n",
            "\u001b[0;32mmtrand.pyx\u001b[0m in \u001b[0;36mnumpy.random.mtrand.RandomState.rand\u001b[0;34m()\u001b[0m\n",
            "\u001b[0;32mmtrand.pyx\u001b[0m in \u001b[0;36mnumpy.random.mtrand.RandomState.random_sample\u001b[0;34m()\u001b[0m\n",
            "\u001b[0;32m_common.pyx\u001b[0m in \u001b[0;36mnumpy.random._common.double_fill\u001b[0;34m()\u001b[0m\n",
            "\u001b[0;31mTypeError\u001b[0m: 'float' object cannot be interpreted as an integer"
          ]
        }
      ],
      "source": [
        "A = np.random.rand(5e7)\n",
        "\n",
        "%timeit np.power(A,3)\n",
        "%timeit A*A*A\n",
        "%timeit np.einsum('i,i,i->i',A,A,A)"
      ]
    },
    {
      "cell_type": "markdown",
      "metadata": {
        "id": "BC_mHEN63Rqd"
      },
      "source": [
        "#### 93. Consider two arrays A and B of shape (8,3) and (2,2). How to find rows of A that contain elements of each row of B regardless of the order of the elements in B? (★★★) \n",
        "(**hint**: np.where)"
      ]
    },
    {
      "cell_type": "code",
      "execution_count": null,
      "metadata": {
        "id": "KusC1Oup3Rqd",
        "colab": {
          "base_uri": "https://localhost:8080/"
        },
        "outputId": "10eaa6fd-6ab6-4359-cc0b-21840550ae95"
      },
      "outputs": [
        {
          "output_type": "stream",
          "name": "stdout",
          "text": [
            "[1 3 4 5]\n"
          ]
        }
      ],
      "source": [
        "A = np.random.randint(0,5,(8,3))\n",
        "B = np.random.randint(0,5,(2,2))\n",
        "\n",
        "C = (A[..., np.newaxis, np.newaxis] == B)\n",
        "rows = np.where(C.any((3,1)).all(1))[0]\n",
        "print(rows)"
      ]
    },
    {
      "cell_type": "markdown",
      "metadata": {
        "id": "ZCIDRU7H3Rqd"
      },
      "source": [
        "#### 94. Considering a 10x3 matrix, extract rows with unequal values (e.g. \\[2,2,3\\]) (★★★)"
      ]
    },
    {
      "cell_type": "code",
      "execution_count": null,
      "metadata": {
        "id": "md-GtPfU3Rqd",
        "colab": {
          "base_uri": "https://localhost:8080/"
        },
        "outputId": "a75a7938-813e-44fa-a411-a0eba67c40f9"
      },
      "outputs": [
        {
          "output_type": "stream",
          "name": "stdout",
          "text": [
            "[[4 3 3]\n",
            " [0 0 2]\n",
            " [3 4 1]\n",
            " [0 0 0]\n",
            " [1 0 0]\n",
            " [3 2 4]\n",
            " [2 4 4]\n",
            " [3 2 4]\n",
            " [0 2 1]\n",
            " [3 4 1]]\n",
            "[[4 3 3]\n",
            " [0 0 2]\n",
            " [3 4 1]\n",
            " [1 0 0]\n",
            " [3 2 4]\n",
            " [2 4 4]\n",
            " [3 2 4]\n",
            " [0 2 1]\n",
            " [3 4 1]]\n",
            "[[4 3 3]\n",
            " [0 0 2]\n",
            " [3 4 1]\n",
            " [1 0 0]\n",
            " [3 2 4]\n",
            " [2 4 4]\n",
            " [3 2 4]\n",
            " [0 2 1]\n",
            " [3 4 1]]\n"
          ]
        }
      ],
      "source": [
        "N = np.random.randint(0,5,(10,3))\n",
        "print(N)\n",
        "A = np.all(N[:,1:] == N[:,:-1], axis=1)\n",
        "B = N[~A]\n",
        "print(B)\n",
        "B = N[N.max(axis=1) != N.min(axis=1),:]\n",
        "print(B)"
      ]
    },
    {
      "cell_type": "markdown",
      "metadata": {
        "id": "LFF9AilU3Rqd"
      },
      "source": [
        "#### 95. Convert a vector of ints into a matrix binary representation (★★★) \n",
        "(**hint**: np.unpackbits)"
      ]
    },
    {
      "cell_type": "code",
      "execution_count": null,
      "metadata": {
        "id": "cIYyRF5e3Rqd",
        "colab": {
          "base_uri": "https://localhost:8080/"
        },
        "outputId": "6b232d3c-fbef-433d-ab00-1831c499b0f2"
      },
      "outputs": [
        {
          "output_type": "stream",
          "name": "stdout",
          "text": [
            "[[0 0 0 0 0 0 0 0]\n",
            " [0 0 0 0 0 0 0 1]\n",
            " [0 0 0 0 0 0 1 0]\n",
            " [0 0 0 0 0 0 1 1]\n",
            " [0 0 0 0 1 1 1 1]\n",
            " [0 0 0 1 0 0 0 0]\n",
            " [0 0 1 0 0 0 0 0]\n",
            " [0 1 0 0 0 0 0 0]\n",
            " [1 0 0 0 0 0 0 0]]\n",
            "[[0 0 0 0 0 0 0 0]\n",
            " [0 0 0 0 0 0 0 1]\n",
            " [0 0 0 0 0 0 1 0]\n",
            " [0 0 0 0 0 0 1 1]\n",
            " [0 0 0 0 1 1 1 1]\n",
            " [0 0 0 1 0 0 0 0]\n",
            " [0 0 1 0 0 0 0 0]\n",
            " [0 1 0 0 0 0 0 0]\n",
            " [1 0 0 0 0 0 0 0]]\n"
          ]
        }
      ],
      "source": [
        "A = np.array([0, 1, 2, 3, 15, 16, 32, 64, 128])\n",
        "B = ((A.reshape(-1,1) & (2**np.arange(8))) != 0).astype(int)\n",
        "print(B[:,::-1])\n",
        "A = np.array([0, 1, 2, 3, 15, 16, 32, 64, 128], dtype=np.uint8)\n",
        "print(np.unpackbits(A[:, np.newaxis], axis=1))"
      ]
    },
    {
      "cell_type": "markdown",
      "metadata": {
        "id": "JaX_Sp9U3Rqd"
      },
      "source": [
        "#### 96. Given a two dimensional array, how to extract unique rows? (★★★) \n",
        "(**hint**: np.ascontiguousarray)"
      ]
    },
    {
      "cell_type": "code",
      "execution_count": null,
      "metadata": {
        "id": "HFZUIXKk3Rqd",
        "colab": {
          "base_uri": "https://localhost:8080/"
        },
        "outputId": "c5b038a9-a5dd-46be-dd26-a98b3a9a7c78"
      },
      "outputs": [
        {
          "output_type": "stream",
          "name": "stdout",
          "text": [
            "[[0 0 1]\n",
            " [0 1 1]\n",
            " [1 1 0]\n",
            " [1 1 1]]\n",
            "[[0 0 1]\n",
            " [0 1 1]\n",
            " [1 1 0]\n",
            " [1 1 1]]\n"
          ]
        }
      ],
      "source": [
        "X = np.random.randint(0,2,(6,3))\n",
        "T = np.ascontiguousarray(X).view(np.dtype((np.void, X.dtype.itemsize * X.shape[1])))\n",
        "_, idx = np.unique(T, return_index=True)\n",
        "a = X[idx]\n",
        "print(a)\n",
        "a = np.unique(X, axis=0)\n",
        "print(a)"
      ]
    },
    {
      "cell_type": "markdown",
      "metadata": {
        "id": "e2Zb8GqF3Rqd"
      },
      "source": [
        "#### 97. Considering 2 vectors A & B, write the einsum equivalent of inner, outer, sum, and mul function (★★★) \n",
        "(**hint**: np.einsum)"
      ]
    },
    {
      "cell_type": "code",
      "execution_count": null,
      "metadata": {
        "id": "U4VQXMFM3Rqe",
        "colab": {
          "base_uri": "https://localhost:8080/"
        },
        "outputId": "97517f49-3b28-48b6-d4a4-27b046767f8f"
      },
      "outputs": [
        {
          "output_type": "execute_result",
          "data": {
            "text/plain": [
              "array([[0.76146904, 0.9445571 , 0.44209016, 0.2668975 , 0.07722725,\n",
              "        0.03781141, 0.25705413, 0.96384155, 0.16895717, 0.23813721],\n",
              "       [0.73185554, 0.90782332, 0.42489729, 0.25651787, 0.07422389,\n",
              "        0.03634092, 0.24705731, 0.92635779, 0.16238643, 0.22887607],\n",
              "       [0.67442524, 0.83658444, 0.39155468, 0.23638835, 0.06839938,\n",
              "        0.03348917, 0.22767018, 0.85366448, 0.14964362, 0.21091566],\n",
              "       [0.68039438, 0.8439888 , 0.39502021, 0.23848056, 0.06900476,\n",
              "        0.03378557, 0.22968522, 0.86122001, 0.15096807, 0.21278241],\n",
              "       [0.45457778, 0.56387672, 0.26391666, 0.15933107, 0.04610272,\n",
              "        0.02257245, 0.15345482, 0.57538905, 0.10086316, 0.1421619 ],\n",
              "       [0.25298122, 0.31380818, 0.14687467, 0.08867078, 0.02565704,\n",
              "        0.012562  , 0.08540054, 0.32021501, 0.05613228, 0.07911581],\n",
              "       [0.03676087, 0.04559968, 0.02134246, 0.01288481, 0.00372824,\n",
              "        0.00182539, 0.01240961, 0.04653066, 0.00815662, 0.01149637],\n",
              "       [0.59099435, 0.73309338, 0.34311676, 0.20714554, 0.05993792,\n",
              "        0.02934634, 0.19950586, 0.74806049, 0.1311317 , 0.18482399],\n",
              "       [0.72145027, 0.8949162 , 0.41885625, 0.25287079, 0.0731686 ,\n",
              "        0.03582424, 0.24354473, 0.91318715, 0.16007768, 0.22562198],\n",
              "       [0.52092321, 0.64617429, 0.30243518, 0.18258537, 0.05283139,\n",
              "        0.02586689, 0.17585149, 0.65936684, 0.1155841 , 0.16291037]])"
            ]
          },
          "metadata": {},
          "execution_count": 135
        }
      ],
      "source": [
        "A = np.random.uniform(0,1,10)\n",
        "B = np.random.uniform(0,1,10)\n",
        "\n",
        "np.einsum('i->', A)       # np.sum(A)\n",
        "np.einsum('i,i->i', A, B) # A * B\n",
        "np.einsum('i,i', A, B)    # np.inner(A, B)\n",
        "np.einsum('i,j->ij', A, B)    # np.outer(A, B)"
      ]
    },
    {
      "cell_type": "markdown",
      "metadata": {
        "id": "f5UtKmkT3Rqe"
      },
      "source": [
        "#### 98. Considering a path described by two vectors (X,Y), how to sample it using equidistant samples (★★★)? \n",
        "(**hint**: np.cumsum, np.interp)"
      ]
    },
    {
      "cell_type": "code",
      "execution_count": null,
      "metadata": {
        "collapsed": true,
        "id": "HCLGgP6T3Rqe"
      },
      "outputs": [],
      "source": [
        "phi = np.arange(0, 10*np.pi, 0.1)\n",
        "a = 1\n",
        "x = a*phi*np.cos(phi)\n",
        "y = a*phi*np.sin(phi)\n",
        "\n",
        "dr = (np.diff(x)**2 + np.diff(y)**2)**.5 \n",
        "r = np.zeros_like(x)\n",
        "r[1:] = np.cumsum(dr)                \n",
        "r_int = np.linspace(0, r.max(), 200) \n",
        "x_int = np.interp(r_int, r, x)       \n",
        "y_int = np.interp(r_int, r, y)"
      ]
    },
    {
      "cell_type": "markdown",
      "metadata": {
        "id": "0V5o18Kc3Rqe"
      },
      "source": [
        "#### 99. Given an integer n and a 2D array X, select from X the rows which can be interpreted as draws from a multinomial distribution with n degrees, i.e., the rows which only contain integers and which sum to n. (★★★) \n",
        "(**hint**: np.logical\\_and.reduce, np.mod)"
      ]
    },
    {
      "cell_type": "code",
      "execution_count": null,
      "metadata": {
        "id": "uHsltPfB3Rqe",
        "colab": {
          "base_uri": "https://localhost:8080/"
        },
        "outputId": "34b7e92f-4590-4cb3-ea5b-289d747a8257"
      },
      "outputs": [
        {
          "output_type": "stream",
          "name": "stdout",
          "text": [
            "[[2. 0. 1. 1.]]\n"
          ]
        }
      ],
      "source": [
        "A = np.asarray([[1.0, 0.0, 3.0, 8.0],\n",
        "                [2.0, 0.0, 1.0, 1.0],\n",
        "                [1.5, 2.5, 1.0, 0.0]])\n",
        "x = 4\n",
        "y = np.logical_and.reduce(np.mod(A, 1) == 0, axis=-1)\n",
        "y &= (A.sum(axis=-1) == x)\n",
        "print(A[y])"
      ]
    },
    {
      "cell_type": "markdown",
      "metadata": {
        "id": "brtTWYDX3Rqe"
      },
      "source": [
        "#### 100. Compute bootstrapped 95% confidence intervals for the mean of a 1D array X (i.e., resample the elements of an array with replacement N times, compute the mean of each sample, and then compute percentiles over the means). (★★★) \n",
        "(**hint**: np.percentile)"
      ]
    },
    {
      "cell_type": "code",
      "execution_count": null,
      "metadata": {
        "id": "Y5A6wb6r3Rqe",
        "colab": {
          "base_uri": "https://localhost:8080/"
        },
        "outputId": "0ddff477-4768-4022-de3b-499d06fc1241"
      },
      "outputs": [
        {
          "output_type": "stream",
          "name": "stdout",
          "text": [
            "[-0.16624187  0.27174028]\n"
          ]
        }
      ],
      "source": [
        "a = np.random.randn(100) # random 1D array\n",
        "b = 1000 # number of bootstrap samples\n",
        "idx = np.random.randint(0, a.size, (b, a.size))\n",
        "X = a[idx].mean(axis=1)\n",
        "Y = np.percentile(X, [2.5, 97.5])\n",
        "print(Y)"
      ]
    }
  ],
  "metadata": {
    "colab": {
      "name": "Numpy_tasks.ipynb",
      "provenance": [],
      "collapsed_sections": [
        "i1EvdQI-3RqR",
        "yB1rrOhU3RqS",
        "DG06A0qu3RqS",
        "os433yO03RqS",
        "-vJ_Adet3RqT",
        "DWl6ZpJT3RqT",
        "kCOLwKwP3RqT",
        "xSkrddQ53RqT",
        "s1CTapOX3RqT",
        "y-act42z3RqT",
        "b_Tg7raD3RqU",
        "G2ZkUcAw3RqU",
        "r2VLAG2y3RqU",
        "ZL7uZxY23RqU",
        "_PLvSRi03RqU",
        "t-WfG0Sl3RqU",
        "ojHom7f83RqV",
        "zKdxwung3RqV"
      ],
      "include_colab_link": true
    },
    "kernelspec": {
      "display_name": "Python 3",
      "language": "python",
      "name": "python3"
    },
    "language_info": {
      "codemirror_mode": {
        "name": "ipython",
        "version": 3
      },
      "file_extension": ".py",
      "mimetype": "text/x-python",
      "name": "python",
      "nbconvert_exporter": "python",
      "pygments_lexer": "ipython3",
      "version": "3.8.3"
    }
  },
  "nbformat": 4,
  "nbformat_minor": 0
}